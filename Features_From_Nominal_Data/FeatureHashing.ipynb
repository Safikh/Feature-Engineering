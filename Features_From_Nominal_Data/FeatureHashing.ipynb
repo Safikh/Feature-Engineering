{
 "cells": [
  {
   "cell_type": "code",
   "execution_count": 1,
   "metadata": {},
   "outputs": [],
   "source": [
    "import pandas as pd\n",
    "import numpy as np\n",
    "import seaborn as sns\n",
    "import matplotlib.pyplot as plt\n",
    "\n",
    "from sklearn.feature_extraction import FeatureHasher"
   ]
  },
  {
   "cell_type": "code",
   "execution_count": 2,
   "metadata": {},
   "outputs": [],
   "source": [
    "hasher_dict = FeatureHasher(n_features=5, input_type='dict')"
   ]
  },
  {
   "cell_type": "code",
   "execution_count": 8,
   "metadata": {},
   "outputs": [],
   "source": [
    "random_dict = hasher_dict.fit_transform([{'a': 1, 'b': 2},\n",
    "                                            {'a': 0, 'c': 5},])"
   ]
  },
  {
   "cell_type": "code",
   "execution_count": 9,
   "metadata": {},
   "outputs": [
    {
     "data": {
      "text/plain": [
       "<2x5 sparse matrix of type '<class 'numpy.float64'>'\n",
       "\twith 3 stored elements in Compressed Sparse Row format>"
      ]
     },
     "execution_count": 9,
     "metadata": {},
     "output_type": "execute_result"
    }
   ],
   "source": [
    "random_dict"
   ]
  },
  {
   "cell_type": "code",
   "execution_count": 10,
   "metadata": {},
   "outputs": [
    {
     "data": {
      "text/plain": [
       "(2, 5)"
      ]
     },
     "execution_count": 10,
     "metadata": {},
     "output_type": "execute_result"
    }
   ],
   "source": [
    "random_dict.shape"
   ]
  },
  {
   "cell_type": "code",
   "execution_count": 11,
   "metadata": {},
   "outputs": [
    {
     "data": {
      "text/plain": [
       "array([[ 1., -2.,  0.,  0.,  0.],\n",
       "       [ 0.,  0., -5.,  0.,  0.]])"
      ]
     },
     "execution_count": 11,
     "metadata": {},
     "output_type": "execute_result"
    }
   ],
   "source": [
    "random_dict.toarray()"
   ]
  },
  {
   "cell_type": "code",
   "execution_count": 12,
   "metadata": {},
   "outputs": [
    {
     "data": {
      "text/plain": [
       "array([[ 1., -2.,  0.,  0.,  0.],\n",
       "       [ 0.,  0., -5.,  0.,  0.]])"
      ]
     },
     "execution_count": 12,
     "metadata": {},
     "output_type": "execute_result"
    }
   ],
   "source": [
    "hasher_pair = FeatureHasher(n_features=5, input_type='pair')\n",
    "random_pair = hasher_pair.fit_transform([[('a', 1), ('b', 2)],\n",
    "                                            [('a', 0), ('c', 5)]])\n",
    "random_pair.toarray()"
   ]
  },
  {
   "cell_type": "code",
   "execution_count": 14,
   "metadata": {},
   "outputs": [],
   "source": [
    "text = [\n",
    "    'I like to eat apple',\n",
    "    'I like to eat apple and banana',\n",
    "    'lorem ipsum dolor sit amet',\n",
    "    'Better late than never',\n",
    "]"
   ]
  },
  {
   "cell_type": "code",
   "execution_count": 15,
   "metadata": {},
   "outputs": [],
   "source": [
    "hasher = FeatureHasher(n_features=8, input_type='string')"
   ]
  },
  {
   "cell_type": "code",
   "execution_count": 16,
   "metadata": {},
   "outputs": [],
   "source": [
    "hashed_features = hasher.fit_transform(text)"
   ]
  },
  {
   "cell_type": "code",
   "execution_count": 17,
   "metadata": {},
   "outputs": [
    {
     "data": {
      "text/plain": [
       "(4, 8)"
      ]
     },
     "execution_count": 17,
     "metadata": {},
     "output_type": "execute_result"
    }
   ],
   "source": [
    "hashed_features.shape"
   ]
  },
  {
   "cell_type": "code",
   "execution_count": 19,
   "metadata": {},
   "outputs": [
    {
     "data": {
      "text/plain": [
       "array([[ 4.,  0.,  3., -1.,  2., -1., -2.,  2.],\n",
       "       [ 6.,  0.,  7.,  0., -1., -2., -2.,  2.],\n",
       "       [ 5.,  2.,  1.,  2.,  5., -2., -1.,  0.],\n",
       "       [ 3.,  2.,  2., -5., -1., -1., -1.,  5.]])"
      ]
     },
     "execution_count": 19,
     "metadata": {},
     "output_type": "execute_result"
    }
   ],
   "source": [
    "hashed_features.toarray()"
   ]
  },
  {
   "cell_type": "code",
   "execution_count": 20,
   "metadata": {},
   "outputs": [
    {
     "data": {
      "text/html": [
       "<div>\n",
       "<style scoped>\n",
       "    .dataframe tbody tr th:only-of-type {\n",
       "        vertical-align: middle;\n",
       "    }\n",
       "\n",
       "    .dataframe tbody tr th {\n",
       "        vertical-align: top;\n",
       "    }\n",
       "\n",
       "    .dataframe thead th {\n",
       "        text-align: right;\n",
       "    }\n",
       "</style>\n",
       "<table border=\"1\" class=\"dataframe\">\n",
       "  <thead>\n",
       "    <tr style=\"text-align: right;\">\n",
       "      <th></th>\n",
       "      <th>Month</th>\n",
       "      <th>Day_of_month</th>\n",
       "      <th>ozone_reading</th>\n",
       "      <th>pressure_height</th>\n",
       "      <th>Wind_speed</th>\n",
       "      <th>Humidity</th>\n",
       "      <th>Inversion_temperature</th>\n",
       "      <th>Visibility</th>\n",
       "    </tr>\n",
       "  </thead>\n",
       "  <tbody>\n",
       "    <tr>\n",
       "      <th>0</th>\n",
       "      <td>January</td>\n",
       "      <td>5</td>\n",
       "      <td>5.34</td>\n",
       "      <td>5760</td>\n",
       "      <td>3</td>\n",
       "      <td>51</td>\n",
       "      <td>57.02</td>\n",
       "      <td>60</td>\n",
       "    </tr>\n",
       "    <tr>\n",
       "      <th>1</th>\n",
       "      <td>January</td>\n",
       "      <td>6</td>\n",
       "      <td>5.77</td>\n",
       "      <td>5720</td>\n",
       "      <td>4</td>\n",
       "      <td>69</td>\n",
       "      <td>53.78</td>\n",
       "      <td>60</td>\n",
       "    </tr>\n",
       "    <tr>\n",
       "      <th>2</th>\n",
       "      <td>January</td>\n",
       "      <td>7</td>\n",
       "      <td>3.69</td>\n",
       "      <td>5790</td>\n",
       "      <td>6</td>\n",
       "      <td>19</td>\n",
       "      <td>54.14</td>\n",
       "      <td>100</td>\n",
       "    </tr>\n",
       "    <tr>\n",
       "      <th>3</th>\n",
       "      <td>January</td>\n",
       "      <td>8</td>\n",
       "      <td>3.89</td>\n",
       "      <td>5790</td>\n",
       "      <td>3</td>\n",
       "      <td>25</td>\n",
       "      <td>64.76</td>\n",
       "      <td>250</td>\n",
       "    </tr>\n",
       "    <tr>\n",
       "      <th>4</th>\n",
       "      <td>January</td>\n",
       "      <td>9</td>\n",
       "      <td>5.76</td>\n",
       "      <td>5700</td>\n",
       "      <td>3</td>\n",
       "      <td>73</td>\n",
       "      <td>52.52</td>\n",
       "      <td>120</td>\n",
       "    </tr>\n",
       "  </tbody>\n",
       "</table>\n",
       "</div>"
      ],
      "text/plain": [
       "     Month  Day_of_month  ozone_reading  pressure_height  Wind_speed  \\\n",
       "0  January             5           5.34             5760           3   \n",
       "1  January             6           5.77             5720           4   \n",
       "2  January             7           3.69             5790           6   \n",
       "3  January             8           3.89             5790           3   \n",
       "4  January             9           5.76             5700           3   \n",
       "\n",
       "   Humidity  Inversion_temperature  Visibility  \n",
       "0        51                  57.02          60  \n",
       "1        69                  53.78          60  \n",
       "2        19                  54.14         100  \n",
       "3        25                  64.76         250  \n",
       "4        73                  52.52         120  "
      ]
     },
     "execution_count": 20,
     "metadata": {},
     "output_type": "execute_result"
    }
   ],
   "source": [
    "ozone = pd.read_csv('data/ozone_reading.csv')\n",
    "ozone.head()"
   ]
  },
  {
   "cell_type": "code",
   "execution_count": 21,
   "metadata": {},
   "outputs": [
    {
     "data": {
      "text/plain": [
       "array(['January', 'February', 'March', 'April', 'May', 'June'],\n",
       "      dtype=object)"
      ]
     },
     "execution_count": 21,
     "metadata": {},
     "output_type": "execute_result"
    }
   ],
   "source": [
    "ozone.Month.unique()"
   ]
  },
  {
   "cell_type": "code",
   "execution_count": 24,
   "metadata": {},
   "outputs": [
    {
     "data": {
      "image/png": "[encoded data removed]",
      "text/plain": [
       "<Figure size 864x504 with 2 Axes>"
      ]
     },
     "metadata": {
      "needs_background": "light"
     },
     "output_type": "display_data"
    }
   ],
   "source": [
    "fig, ax = plt.subplots(figsize=(12, 7))\n",
    "sns.heatmap(ozone.corr(), annot=True, linewidths=.5, fmt='.2f', ax=ax, cmap='viridis');"
   ]
  },
  {
   "cell_type": "code",
   "execution_count": 25,
   "metadata": {},
   "outputs": [],
   "source": [
    "fh = FeatureHasher(n_features=4, input_type='string')\n",
    "hashed_features = fh.fit_transform(ozone.Month).toarray()\n",
    "hashed_categories = ['month_hash_0', 'month_hash_1', 'month_hash_2', 'month_hash_3']"
   ]
  },
  {
   "cell_type": "code",
   "execution_count": 27,
   "metadata": {},
   "outputs": [
    {
     "data": {
      "text/html": [
       "<div>\n",
       "<style scoped>\n",
       "    .dataframe tbody tr th:only-of-type {\n",
       "        vertical-align: middle;\n",
       "    }\n",
       "\n",
       "    .dataframe tbody tr th {\n",
       "        vertical-align: top;\n",
       "    }\n",
       "\n",
       "    .dataframe thead th {\n",
       "        text-align: right;\n",
       "    }\n",
       "</style>\n",
       "<table border=\"1\" class=\"dataframe\">\n",
       "  <thead>\n",
       "    <tr style=\"text-align: right;\">\n",
       "      <th></th>\n",
       "      <th>month_hash_0</th>\n",
       "      <th>month_hash_1</th>\n",
       "      <th>month_hash_2</th>\n",
       "      <th>month_hash_3</th>\n",
       "    </tr>\n",
       "  </thead>\n",
       "  <tbody>\n",
       "    <tr>\n",
       "      <th>7</th>\n",
       "      <td>0</td>\n",
       "      <td>1</td>\n",
       "      <td>3</td>\n",
       "      <td>1</td>\n",
       "    </tr>\n",
       "    <tr>\n",
       "      <th>59</th>\n",
       "      <td>1</td>\n",
       "      <td>0</td>\n",
       "      <td>0</td>\n",
       "      <td>0</td>\n",
       "    </tr>\n",
       "    <tr>\n",
       "      <th>39</th>\n",
       "      <td>0</td>\n",
       "      <td>-1</td>\n",
       "      <td>2</td>\n",
       "      <td>0</td>\n",
       "    </tr>\n",
       "    <tr>\n",
       "      <th>36</th>\n",
       "      <td>0</td>\n",
       "      <td>-1</td>\n",
       "      <td>2</td>\n",
       "      <td>0</td>\n",
       "    </tr>\n",
       "    <tr>\n",
       "      <th>60</th>\n",
       "      <td>1</td>\n",
       "      <td>0</td>\n",
       "      <td>0</td>\n",
       "      <td>0</td>\n",
       "    </tr>\n",
       "    <tr>\n",
       "      <th>58</th>\n",
       "      <td>1</td>\n",
       "      <td>0</td>\n",
       "      <td>0</td>\n",
       "      <td>0</td>\n",
       "    </tr>\n",
       "    <tr>\n",
       "      <th>93</th>\n",
       "      <td>0</td>\n",
       "      <td>0</td>\n",
       "      <td>0</td>\n",
       "      <td>2</td>\n",
       "    </tr>\n",
       "    <tr>\n",
       "      <th>102</th>\n",
       "      <td>0</td>\n",
       "      <td>0</td>\n",
       "      <td>0</td>\n",
       "      <td>2</td>\n",
       "    </tr>\n",
       "    <tr>\n",
       "      <th>57</th>\n",
       "      <td>1</td>\n",
       "      <td>0</td>\n",
       "      <td>0</td>\n",
       "      <td>0</td>\n",
       "    </tr>\n",
       "    <tr>\n",
       "      <th>61</th>\n",
       "      <td>1</td>\n",
       "      <td>0</td>\n",
       "      <td>0</td>\n",
       "      <td>0</td>\n",
       "    </tr>\n",
       "  </tbody>\n",
       "</table>\n",
       "</div>"
      ],
      "text/plain": [
       "     month_hash_0  month_hash_1  month_hash_2  month_hash_3\n",
       "7               0             1             3             1\n",
       "59              1             0             0             0\n",
       "39              0            -1             2             0\n",
       "36              0            -1             2             0\n",
       "60              1             0             0             0\n",
       "58              1             0             0             0\n",
       "93              0             0             0             2\n",
       "102             0             0             0             2\n",
       "57              1             0             0             0\n",
       "61              1             0             0             0"
      ]
     },
     "execution_count": 27,
     "metadata": {},
     "output_type": "execute_result"
    }
   ],
   "source": [
    "hashed_df = pd.DataFrame(hashed_features, columns=hashed_categories, dtype=np.int8)\n",
    "hashed_df.sample(10)"
   ]
  },
  {
   "cell_type": "code",
   "execution_count": 29,
   "metadata": {},
   "outputs": [
    {
     "data": {
      "text/html": [
       "<div>\n",
       "<style scoped>\n",
       "    .dataframe tbody tr th:only-of-type {\n",
       "        vertical-align: middle;\n",
       "    }\n",
       "\n",
       "    .dataframe tbody tr th {\n",
       "        vertical-align: top;\n",
       "    }\n",
       "\n",
       "    .dataframe thead th {\n",
       "        text-align: right;\n",
       "    }\n",
       "</style>\n",
       "<table border=\"1\" class=\"dataframe\">\n",
       "  <thead>\n",
       "    <tr style=\"text-align: right;\">\n",
       "      <th></th>\n",
       "      <th>Day_of_month</th>\n",
       "      <th>ozone_reading</th>\n",
       "      <th>pressure_height</th>\n",
       "      <th>Wind_speed</th>\n",
       "      <th>Humidity</th>\n",
       "      <th>Inversion_temperature</th>\n",
       "      <th>Visibility</th>\n",
       "      <th>month_hash_0</th>\n",
       "      <th>month_hash_1</th>\n",
       "      <th>month_hash_2</th>\n",
       "      <th>month_hash_3</th>\n",
       "    </tr>\n",
       "  </thead>\n",
       "  <tbody>\n",
       "    <tr>\n",
       "      <th>23</th>\n",
       "      <td>10</td>\n",
       "      <td>4.08</td>\n",
       "      <td>5560</td>\n",
       "      <td>10</td>\n",
       "      <td>72</td>\n",
       "      <td>37.58</td>\n",
       "      <td>300</td>\n",
       "      <td>1</td>\n",
       "      <td>1</td>\n",
       "      <td>1</td>\n",
       "      <td>1</td>\n",
       "    </tr>\n",
       "    <tr>\n",
       "      <th>22</th>\n",
       "      <td>9</td>\n",
       "      <td>2.92</td>\n",
       "      <td>5490</td>\n",
       "      <td>11</td>\n",
       "      <td>72</td>\n",
       "      <td>38.12</td>\n",
       "      <td>350</td>\n",
       "      <td>1</td>\n",
       "      <td>1</td>\n",
       "      <td>1</td>\n",
       "      <td>1</td>\n",
       "    </tr>\n",
       "    <tr>\n",
       "      <th>84</th>\n",
       "      <td>25</td>\n",
       "      <td>8.68</td>\n",
       "      <td>5730</td>\n",
       "      <td>5</td>\n",
       "      <td>71</td>\n",
       "      <td>59.36</td>\n",
       "      <td>200</td>\n",
       "      <td>0</td>\n",
       "      <td>0</td>\n",
       "      <td>3</td>\n",
       "      <td>0</td>\n",
       "    </tr>\n",
       "    <tr>\n",
       "      <th>34</th>\n",
       "      <td>1</td>\n",
       "      <td>2.26</td>\n",
       "      <td>5550</td>\n",
       "      <td>10</td>\n",
       "      <td>74</td>\n",
       "      <td>40.10</td>\n",
       "      <td>80</td>\n",
       "      <td>0</td>\n",
       "      <td>-1</td>\n",
       "      <td>2</td>\n",
       "      <td>0</td>\n",
       "    </tr>\n",
       "    <tr>\n",
       "      <th>65</th>\n",
       "      <td>15</td>\n",
       "      <td>2.88</td>\n",
       "      <td>5620</td>\n",
       "      <td>5</td>\n",
       "      <td>73</td>\n",
       "      <td>31.28</td>\n",
       "      <td>100</td>\n",
       "      <td>1</td>\n",
       "      <td>0</td>\n",
       "      <td>0</td>\n",
       "      <td>0</td>\n",
       "    </tr>\n",
       "    <tr>\n",
       "      <th>31</th>\n",
       "      <td>25</td>\n",
       "      <td>10.27</td>\n",
       "      <td>5720</td>\n",
       "      <td>6</td>\n",
       "      <td>63</td>\n",
       "      <td>59.18</td>\n",
       "      <td>150</td>\n",
       "      <td>1</td>\n",
       "      <td>1</td>\n",
       "      <td>1</td>\n",
       "      <td>1</td>\n",
       "    </tr>\n",
       "    <tr>\n",
       "      <th>52</th>\n",
       "      <td>29</td>\n",
       "      <td>8.60</td>\n",
       "      <td>5690</td>\n",
       "      <td>7</td>\n",
       "      <td>70</td>\n",
       "      <td>53.60</td>\n",
       "      <td>200</td>\n",
       "      <td>0</td>\n",
       "      <td>-1</td>\n",
       "      <td>2</td>\n",
       "      <td>0</td>\n",
       "    </tr>\n",
       "    <tr>\n",
       "      <th>63</th>\n",
       "      <td>13</td>\n",
       "      <td>3.65</td>\n",
       "      <td>5440</td>\n",
       "      <td>5</td>\n",
       "      <td>44</td>\n",
       "      <td>32.54</td>\n",
       "      <td>80</td>\n",
       "      <td>1</td>\n",
       "      <td>0</td>\n",
       "      <td>0</td>\n",
       "      <td>0</td>\n",
       "    </tr>\n",
       "    <tr>\n",
       "      <th>82</th>\n",
       "      <td>13</td>\n",
       "      <td>24.89</td>\n",
       "      <td>5890</td>\n",
       "      <td>6</td>\n",
       "      <td>88</td>\n",
       "      <td>86.00</td>\n",
       "      <td>20</td>\n",
       "      <td>0</td>\n",
       "      <td>0</td>\n",
       "      <td>3</td>\n",
       "      <td>0</td>\n",
       "    </tr>\n",
       "    <tr>\n",
       "      <th>4</th>\n",
       "      <td>9</td>\n",
       "      <td>5.76</td>\n",
       "      <td>5700</td>\n",
       "      <td>3</td>\n",
       "      <td>73</td>\n",
       "      <td>52.52</td>\n",
       "      <td>120</td>\n",
       "      <td>0</td>\n",
       "      <td>1</td>\n",
       "      <td>3</td>\n",
       "      <td>1</td>\n",
       "    </tr>\n",
       "  </tbody>\n",
       "</table>\n",
       "</div>"
      ],
      "text/plain": [
       "    Day_of_month  ozone_reading  pressure_height  Wind_speed  Humidity  \\\n",
       "23            10           4.08             5560          10        72   \n",
       "22             9           2.92             5490          11        72   \n",
       "84            25           8.68             5730           5        71   \n",
       "34             1           2.26             5550          10        74   \n",
       "65            15           2.88             5620           5        73   \n",
       "31            25          10.27             5720           6        63   \n",
       "52            29           8.60             5690           7        70   \n",
       "63            13           3.65             5440           5        44   \n",
       "82            13          24.89             5890           6        88   \n",
       "4              9           5.76             5700           3        73   \n",
       "\n",
       "    Inversion_temperature  Visibility  month_hash_0  month_hash_1  \\\n",
       "23                  37.58         300             1             1   \n",
       "22                  38.12         350             1             1   \n",
       "84                  59.36         200             0             0   \n",
       "34                  40.10          80             0            -1   \n",
       "65                  31.28         100             1             0   \n",
       "31                  59.18         150             1             1   \n",
       "52                  53.60         200             0            -1   \n",
       "63                  32.54          80             1             0   \n",
       "82                  86.00          20             0             0   \n",
       "4                   52.52         120             0             1   \n",
       "\n",
       "    month_hash_2  month_hash_3  \n",
       "23             1             1  \n",
       "22             1             1  \n",
       "84             3             0  \n",
       "34             2             0  \n",
       "65             0             0  \n",
       "31             1             1  \n",
       "52             2             0  \n",
       "63             0             0  \n",
       "82             3             0  \n",
       "4              3             1  "
      ]
     },
     "execution_count": 29,
     "metadata": {},
     "output_type": "execute_result"
    }
   ],
   "source": [
    "hashed_ozone = pd.concat([ozone, hashed_df], axis=1)\n",
    "hashed_ozone.drop(columns=['Month'], inplace=True)\n",
    "hashed_ozone.sample(10)"
   ]
  },
  {
   "cell_type": "code",
   "execution_count": 30,
   "metadata": {},
   "outputs": [],
   "source": [
    "X = hashed_ozone.drop(columns=['ozone_reading'])\n",
    "y = hashed_ozone['ozone_reading']"
   ]
  },
  {
   "cell_type": "code",
   "execution_count": 31,
   "metadata": {},
   "outputs": [
    {
     "name": "stdout",
     "output_type": "stream",
     "text": [
      "Training score: 0.7115996610285058\n"
     ]
    }
   ],
   "source": [
    "from sklearn.linear_model import LinearRegression\n",
    "lr = LinearRegression()\n",
    "lr.fit(X, y)\n",
    "print(f'Training score: {lr.score(X, y)}')"
   ]
  },
  {
   "cell_type": "code",
   "execution_count": null,
   "metadata": {},
   "outputs": [],
   "source": []
  }
 ],
 "metadata": {
  "interpreter": {
   "hash": "a5a8803176ba603454a120d2af569b11c3f41e6e81f2a81589e795246afd0d6d"
  },
  "kernelspec": {
   "display_name": "Python 3.7.6 64-bit ('base': conda)",
   "language": "python",
   "name": "python3"
  },
  "language_info": {
   "codemirror_mode": {
    "name": "ipython",
    "version": 3
   },
   "file_extension": ".py",
   "mimetype": "text/x-python",
   "name": "python",
   "nbconvert_exporter": "python",
   "pygments_lexer": "ipython3",
   "version": "3.7.6"
  },
  "orig_nbformat": 4
 },
 "nbformat": 4,
 "nbformat_minor": 2
}
