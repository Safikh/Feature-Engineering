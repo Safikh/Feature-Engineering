{
 "cells": [
  {
   "cell_type": "code",
   "execution_count": 2,
   "metadata": {},
   "outputs": [],
   "source": [
    "import gzip\n",
    "import numpy as np\n",
    "import matplotlib.pyplot as plt\n",
    "from tensorflow import keras"
   ]
  },
  {
   "cell_type": "code",
   "execution_count": 3,
   "metadata": {},
   "outputs": [],
   "source": [
    "IMAGE_FEATURES = 28 * 28"
   ]
  },
  {
   "cell_type": "code",
   "execution_count": 4,
   "metadata": {},
   "outputs": [],
   "source": [
    "def extract_data(filename, num_images):\n",
    "    with gzip.open(filename) as bytestream:\n",
    "        bytestream.read(16)\n",
    "        buf = bytestream.read(IMAGE_FEATURES * num_images)\n",
    "        data = np.frombuffer(buf, dtype=np.uint8).astype(np.float32)\n",
    "        data = data.reshape(num_images, IMAGE_FEATURES)\n",
    "        return data"
   ]
  },
  {
   "cell_type": "code",
   "execution_count": 5,
   "metadata": {},
   "outputs": [],
   "source": [
    "# The notMNIST dataset\n",
    "# http://yaroslavvb.blogspot.com/2011/09/notmnist-dataset.html\n",
    "train_data = extract_data('data/train-images-idx3-ubyte.gz', 60000)\n",
    "test_data = extract_data('data/t10k-images-idx3-ubyte.gz', 10000)"
   ]
  },
  {
   "cell_type": "code",
   "execution_count": 6,
   "metadata": {},
   "outputs": [
    {
     "data": {
      "text/plain": [
       "((60000, 784), (10000, 784))"
      ]
     },
     "execution_count": 6,
     "metadata": {},
     "output_type": "execute_result"
    }
   ],
   "source": [
    "train_data.shape, test_data.shape"
   ]
  },
  {
   "cell_type": "code",
   "execution_count": 7,
   "metadata": {},
   "outputs": [],
   "source": [
    "label_dict = {\n",
    "    0: 'A',\n",
    "    1: 'B',\n",
    "    2: 'C',\n",
    "    3: 'D',\n",
    "    4: 'E',\n",
    "    5: 'F',\n",
    "    6: 'G',\n",
    "    7: 'H',\n",
    "    8: 'I',\n",
    "    9: 'J'\n",
    "}"
   ]
  },
  {
   "cell_type": "code",
   "execution_count": 8,
   "metadata": {},
   "outputs": [],
   "source": [
    "def display_image(image_pixels):\n",
    "    plt.imshow(image_pixels.reshape((28, 28)), cmap='gray')\n",
    "    plt.show();"
   ]
  },
  {
   "cell_type": "code",
   "execution_count": 9,
   "metadata": {},
   "outputs": [
    {
     "data": {
      "image/png": "[encoded data removed]",
      "text/plain": [
       "<Figure size 432x288 with 1 Axes>"
      ]
     },
     "metadata": {
      "needs_background": "light"
     },
     "output_type": "display_data"
    }
   ],
   "source": [
    "display_image(train_data[20])"
   ]
  },
  {
   "cell_type": "code",
   "execution_count": 10,
   "metadata": {},
   "outputs": [
    {
     "data": {
      "text/plain": [
       "(dtype('float32'), dtype('float32'))"
      ]
     },
     "execution_count": 10,
     "metadata": {},
     "output_type": "execute_result"
    }
   ],
   "source": [
    "train_data.dtype, test_data.dtype"
   ]
  },
  {
   "cell_type": "code",
   "execution_count": 11,
   "metadata": {},
   "outputs": [
    {
     "data": {
      "text/plain": [
       "(255.0, 255.0)"
      ]
     },
     "execution_count": 11,
     "metadata": {},
     "output_type": "execute_result"
    }
   ],
   "source": [
    "np.max(train_data), np.max(test_data)"
   ]
  },
  {
   "cell_type": "code",
   "execution_count": 12,
   "metadata": {},
   "outputs": [],
   "source": [
    "train_data = train_data / 255.0\n",
    "test_data = test_data / 255.0"
   ]
  },
  {
   "cell_type": "code",
   "execution_count": 13,
   "metadata": {},
   "outputs": [],
   "source": [
    "from tensorflow.keras.models import Model\n",
    "from tensorflow.keras.layers import Input, Dense\n",
    "from tensorflow.keras.optimizers import RMSprop"
   ]
  },
  {
   "cell_type": "code",
   "execution_count": 14,
   "metadata": {},
   "outputs": [],
   "source": [
    "BATCH_SIZE = 128\n",
    "EPOCHS = 25"
   ]
  },
  {
   "cell_type": "code",
   "execution_count": 15,
   "metadata": {},
   "outputs": [],
   "source": [
    "input_img = Input(shape=(IMAGE_FEATURES,))\n",
    "\n",
    "def autoencoder(input_img):\n",
    "\n",
    "    encoding1 = Dense(784, activation='relu')(input_img)\n",
    "    encoding2 = Dense(256, activation='relu')(encoding1)\n",
    "\n",
    "    codings = Dense(64, activation='relu')(encoding2)\n",
    "\n",
    "    decoding2 = Dense(256, activation='relu')(codings)\n",
    "    decoding1 = Dense(784, activation='relu')(decoding2)\n",
    "\n",
    "    return decoding1"
   ]
  },
  {
   "cell_type": "code",
   "execution_count": 16,
   "metadata": {},
   "outputs": [],
   "source": [
    "autoencoder = Model(input_img, autoencoder(input_img))\n",
    "autoencoder.compile(optimizer=RMSprop(), loss='mse')"
   ]
  },
  {
   "cell_type": "code",
   "execution_count": 17,
   "metadata": {},
   "outputs": [
    {
     "name": "stdout",
     "output_type": "stream",
     "text": [
      "Model: \"model\"\n",
      "_________________________________________________________________\n",
      "Layer (type)                 Output Shape              Param #   \n",
      "=================================================================\n",
      "input_1 (InputLayer)         [(None, 784)]             0         \n",
      "_________________________________________________________________\n",
      "dense (Dense)                (None, 784)               615440    \n",
      "_________________________________________________________________\n",
      "dense_1 (Dense)              (None, 256)               200960    \n",
      "_________________________________________________________________\n",
      "dense_2 (Dense)              (None, 64)                16448     \n",
      "_________________________________________________________________\n",
      "dense_3 (Dense)              (None, 256)               16640     \n",
      "_________________________________________________________________\n",
      "dense_4 (Dense)              (None, 784)               201488    \n",
      "=================================================================\n",
      "Total params: 1,050,976\n",
      "Trainable params: 1,050,976\n",
      "Non-trainable params: 0\n",
      "_________________________________________________________________\n"
     ]
    }
   ],
   "source": [
    "autoencoder.summary()"
   ]
  },
  {
   "cell_type": "code",
   "execution_count": 18,
   "metadata": {},
   "outputs": [
    {
     "name": "stdout",
     "output_type": "stream",
     "text": [
      "Epoch 1/25\n",
      "469/469 [==============================] - 9s 17ms/step - loss: 0.1097 - val_loss: 0.0653\n",
      "Epoch 2/25\n",
      "469/469 [==============================] - 8s 17ms/step - loss: 0.0567 - val_loss: 0.0520\n",
      "Epoch 3/25\n",
      "469/469 [==============================] - 8s 17ms/step - loss: 0.0474 - val_loss: 0.0440\n",
      "Epoch 4/25\n",
      "469/469 [==============================] - 6s 13ms/step - loss: 0.0431 - val_loss: 0.0426\n",
      "Epoch 5/25\n",
      "469/469 [==============================] - 6s 12ms/step - loss: 0.0403 - val_loss: 0.0389\n",
      "Epoch 6/25\n",
      "469/469 [==============================] - 6s 13ms/step - loss: 0.0382 - val_loss: 0.0368\n",
      "Epoch 7/25\n",
      "469/469 [==============================] - 6s 13ms/step - loss: 0.0366 - val_loss: 0.0332\n",
      "Epoch 8/25\n",
      "469/469 [==============================] - 6s 13ms/step - loss: 0.0353 - val_loss: 0.0324\n",
      "Epoch 9/25\n",
      "469/469 [==============================] - 6s 13ms/step - loss: 0.0340 - val_loss: 0.0335\n",
      "Epoch 10/25\n",
      "469/469 [==============================] - 6s 13ms/step - loss: 0.0332 - val_loss: 0.0357\n",
      "Epoch 11/25\n",
      "469/469 [==============================] - 6s 13ms/step - loss: 0.0325 - val_loss: 0.0294\n",
      "Epoch 12/25\n",
      "469/469 [==============================] - 6s 13ms/step - loss: 0.0315 - val_loss: 0.0308\n",
      "Epoch 13/25\n",
      "469/469 [==============================] - 6s 14ms/step - loss: 0.0309 - val_loss: 0.0319\n",
      "Epoch 14/25\n",
      "469/469 [==============================] - 6s 13ms/step - loss: 0.0304 - val_loss: 0.0311\n",
      "Epoch 15/25\n",
      "469/469 [==============================] - 6s 13ms/step - loss: 0.0300 - val_loss: 0.0307\n",
      "Epoch 16/25\n",
      "469/469 [==============================] - 7s 14ms/step - loss: 0.0296 - val_loss: 0.0287\n",
      "Epoch 17/25\n",
      "469/469 [==============================] - 6s 14ms/step - loss: 0.0293 - val_loss: 0.0278\n",
      "Epoch 18/25\n",
      "469/469 [==============================] - 6s 14ms/step - loss: 0.0287 - val_loss: 0.0276\n",
      "Epoch 19/25\n",
      "469/469 [==============================] - 6s 14ms/step - loss: 0.0281 - val_loss: 0.0272\n",
      "Epoch 20/25\n",
      "469/469 [==============================] - 6s 13ms/step - loss: 0.0273 - val_loss: 0.0290\n",
      "Epoch 21/25\n",
      "469/469 [==============================] - 6s 14ms/step - loss: 0.0270 - val_loss: 0.0272\n",
      "Epoch 22/25\n",
      "469/469 [==============================] - 7s 14ms/step - loss: 0.0268 - val_loss: 0.0260\n",
      "Epoch 23/25\n",
      "469/469 [==============================] - 7s 14ms/step - loss: 0.0265 - val_loss: 0.0278\n",
      "Epoch 24/25\n",
      "469/469 [==============================] - 6s 13ms/step - loss: 0.0263 - val_loss: 0.0264\n",
      "Epoch 25/25\n",
      "469/469 [==============================] - 7s 14ms/step - loss: 0.0261 - val_loss: 0.0258\n"
     ]
    }
   ],
   "source": [
    "history = autoencoder.fit(train_data, train_data,\n",
    "                          epochs=EPOCHS,\n",
    "                          batch_size=BATCH_SIZE,\n",
    "                          verbose=1,\n",
    "                          validation_data=(train_data, train_data))"
   ]
  },
  {
   "cell_type": "code",
   "execution_count": 19,
   "metadata": {},
   "outputs": [
    {
     "data": {
      "text/plain": [
       "(10000, 784)"
      ]
     },
     "execution_count": 19,
     "metadata": {},
     "output_type": "execute_result"
    }
   ],
   "source": [
    "pred = autoencoder.predict(test_data)\n",
    "pred.shape"
   ]
  },
  {
   "cell_type": "code",
   "execution_count": 20,
   "metadata": {},
   "outputs": [
    {
     "name": "stdout",
     "output_type": "stream",
     "text": [
      "Original\n"
     ]
    },
    {
     "data": {
      "image/png": "[encoded data removed]",
      "text/plain": [
       "<Figure size 1728x288 with 6 Axes>"
      ]
     },
     "metadata": {
      "needs_background": "light"
     },
     "output_type": "display_data"
    },
    {
     "name": "stdout",
     "output_type": "stream",
     "text": [
      "Reconstruction\n"
     ]
    },
    {
     "data": {
      "image/png": "[encoded data removed]",
      "text/plain": [
       "<Figure size 1728x288 with 6 Axes>"
      ]
     },
     "metadata": {
      "needs_background": "light"
     },
     "output_type": "display_data"
    }
   ],
   "source": [
    "plt.figure(figsize=(24, 4))\n",
    "print(\"Original\")\n",
    "pos = 0\n",
    "for i in range(100, 106):\n",
    "    plt.subplot(2, 10, pos+1)\n",
    "    img = test_data[i].reshape(28, 28)\n",
    "    plt.imshow(img, cmap='gray')\n",
    "    pos = pos + 1\n",
    "\n",
    "plt.show()\n",
    "\n",
    "plt.figure(figsize=(24, 4))\n",
    "print(\"Reconstruction\")\n",
    "\n",
    "pos = 0\n",
    "\n",
    "for i in range(100, 106):\n",
    "\n",
    "    plt.subplot(2, 10, pos+1)\n",
    "    img = pred[i].reshape(28, 28)\n",
    "    plt.imshow(img, cmap='gray')\n",
    "    pos = pos + 1\n",
    "plt.show()"
   ]
  },
  {
   "cell_type": "code",
   "execution_count": null,
   "metadata": {},
   "outputs": [],
   "source": []
  }
 ],
 "metadata": {
  "interpreter": {
   "hash": "d92150c260e0a0e510cb695b898bf97ec113e5872ef5eb1807af1205ee2692cd"
  },
  "kernelspec": {
   "display_name": "Python 3.9.7 64-bit ('tfenv': conda)",
   "language": "python",
   "name": "python3"
  },
  "language_info": {
   "codemirror_mode": {
    "name": "ipython",
    "version": 3
   },
   "file_extension": ".py",
   "mimetype": "text/x-python",
   "name": "python",
   "nbconvert_exporter": "python",
   "pygments_lexer": "ipython3",
   "version": "3.9.7"
  },
  "orig_nbformat": 4
 },
 "nbformat": 4,
 "nbformat_minor": 2
}
