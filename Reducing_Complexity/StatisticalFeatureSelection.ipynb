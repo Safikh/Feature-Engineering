{
 "cells": [
  {
   "cell_type": "code",
   "execution_count": 1,
   "metadata": {},
   "outputs": [],
   "source": [
    "import pandas as pd\n",
    "import matplotlib.pyplot as plt\n",
    "\n",
    "from sklearn.metrics import r2_score\n",
    "from sklearn.model_selection import train_test_split\n",
    "\n",
    "import statsmodels.api as sm\n",
    "from sklearn.linear_model import LinearRegression"
   ]
  },
  {
   "cell_type": "markdown",
   "metadata": {},
   "source": [
    "# Variance Thresholding"
   ]
  },
  {
   "cell_type": "code",
   "execution_count": 2,
   "metadata": {},
   "outputs": [
    {
     "name": "stdout",
     "output_type": "stream",
     "text": [
      "(506, 13)\n"
     ]
    }
   ],
   "source": [
    "boston = pd.read_csv('data/boston.csv')\n",
    "print(boston.shape)"
   ]
  },
  {
   "cell_type": "code",
   "execution_count": 3,
   "metadata": {},
   "outputs": [
    {
     "data": {
      "text/html": [
       "<div>\n",
       "<style scoped>\n",
       "    .dataframe tbody tr th:only-of-type {\n",
       "        vertical-align: middle;\n",
       "    }\n",
       "\n",
       "    .dataframe tbody tr th {\n",
       "        vertical-align: top;\n",
       "    }\n",
       "\n",
       "    .dataframe thead th {\n",
       "        text-align: right;\n",
       "    }\n",
       "</style>\n",
       "<table border=\"1\" class=\"dataframe\">\n",
       "  <thead>\n",
       "    <tr style=\"text-align: right;\">\n",
       "      <th></th>\n",
       "      <th>crime rate</th>\n",
       "      <th>residential land zone</th>\n",
       "      <th>business acres</th>\n",
       "      <th>Charles River</th>\n",
       "      <th>nitric oxides</th>\n",
       "      <th>number of rooms</th>\n",
       "      <th>age</th>\n",
       "      <th>distances to employment centres</th>\n",
       "      <th>accessibility to highways</th>\n",
       "      <th>property-tax</th>\n",
       "      <th>pupil-teacher ratio</th>\n",
       "      <th>lower income levels</th>\n",
       "      <th>Median Home Value</th>\n",
       "    </tr>\n",
       "  </thead>\n",
       "  <tbody>\n",
       "    <tr>\n",
       "      <th>0</th>\n",
       "      <td>0.00632</td>\n",
       "      <td>18.0</td>\n",
       "      <td>2.31</td>\n",
       "      <td>0.0</td>\n",
       "      <td>0.538</td>\n",
       "      <td>6.575</td>\n",
       "      <td>65.2</td>\n",
       "      <td>4.0900</td>\n",
       "      <td>1.0</td>\n",
       "      <td>296.0</td>\n",
       "      <td>15.3</td>\n",
       "      <td>4.98</td>\n",
       "      <td>24.0</td>\n",
       "    </tr>\n",
       "    <tr>\n",
       "      <th>1</th>\n",
       "      <td>0.02731</td>\n",
       "      <td>0.0</td>\n",
       "      <td>7.07</td>\n",
       "      <td>0.0</td>\n",
       "      <td>0.469</td>\n",
       "      <td>6.421</td>\n",
       "      <td>78.9</td>\n",
       "      <td>4.9671</td>\n",
       "      <td>2.0</td>\n",
       "      <td>242.0</td>\n",
       "      <td>17.8</td>\n",
       "      <td>9.14</td>\n",
       "      <td>21.6</td>\n",
       "    </tr>\n",
       "    <tr>\n",
       "      <th>2</th>\n",
       "      <td>0.02729</td>\n",
       "      <td>0.0</td>\n",
       "      <td>7.07</td>\n",
       "      <td>0.0</td>\n",
       "      <td>0.469</td>\n",
       "      <td>7.185</td>\n",
       "      <td>61.1</td>\n",
       "      <td>4.9671</td>\n",
       "      <td>2.0</td>\n",
       "      <td>242.0</td>\n",
       "      <td>17.8</td>\n",
       "      <td>4.03</td>\n",
       "      <td>34.7</td>\n",
       "    </tr>\n",
       "    <tr>\n",
       "      <th>3</th>\n",
       "      <td>0.03237</td>\n",
       "      <td>0.0</td>\n",
       "      <td>2.18</td>\n",
       "      <td>0.0</td>\n",
       "      <td>0.458</td>\n",
       "      <td>6.998</td>\n",
       "      <td>45.8</td>\n",
       "      <td>6.0622</td>\n",
       "      <td>3.0</td>\n",
       "      <td>222.0</td>\n",
       "      <td>18.7</td>\n",
       "      <td>2.94</td>\n",
       "      <td>33.4</td>\n",
       "    </tr>\n",
       "    <tr>\n",
       "      <th>4</th>\n",
       "      <td>0.06905</td>\n",
       "      <td>0.0</td>\n",
       "      <td>2.18</td>\n",
       "      <td>0.0</td>\n",
       "      <td>0.458</td>\n",
       "      <td>7.147</td>\n",
       "      <td>54.2</td>\n",
       "      <td>6.0622</td>\n",
       "      <td>3.0</td>\n",
       "      <td>222.0</td>\n",
       "      <td>18.7</td>\n",
       "      <td>5.33</td>\n",
       "      <td>36.2</td>\n",
       "    </tr>\n",
       "  </tbody>\n",
       "</table>\n",
       "</div>"
      ],
      "text/plain": [
       "   crime rate  residential land zone  business acres  Charles River  \\\n",
       "0     0.00632                   18.0            2.31            0.0   \n",
       "1     0.02731                    0.0            7.07            0.0   \n",
       "2     0.02729                    0.0            7.07            0.0   \n",
       "3     0.03237                    0.0            2.18            0.0   \n",
       "4     0.06905                    0.0            2.18            0.0   \n",
       "\n",
       "   nitric oxides  number of rooms   age  distances to employment centres  \\\n",
       "0          0.538            6.575  65.2                           4.0900   \n",
       "1          0.469            6.421  78.9                           4.9671   \n",
       "2          0.469            7.185  61.1                           4.9671   \n",
       "3          0.458            6.998  45.8                           6.0622   \n",
       "4          0.458            7.147  54.2                           6.0622   \n",
       "\n",
       "   accessibility to highways  property-tax  pupil-teacher ratio  \\\n",
       "0                        1.0         296.0                 15.3   \n",
       "1                        2.0         242.0                 17.8   \n",
       "2                        2.0         242.0                 17.8   \n",
       "3                        3.0         222.0                 18.7   \n",
       "4                        3.0         222.0                 18.7   \n",
       "\n",
       "   lower income levels  Median Home Value  \n",
       "0                 4.98               24.0  \n",
       "1                 9.14               21.6  \n",
       "2                 4.03               34.7  \n",
       "3                 2.94               33.4  \n",
       "4                 5.33               36.2  "
      ]
     },
     "execution_count": 3,
     "metadata": {},
     "output_type": "execute_result"
    }
   ],
   "source": [
    "boston.head()"
   ]
  },
  {
   "cell_type": "code",
   "execution_count": 4,
   "metadata": {},
   "outputs": [],
   "source": [
    "X = boston.drop(columns='Median Home Value')\n",
    "y = boston['Median Home Value']"
   ]
  },
  {
   "cell_type": "code",
   "execution_count": 5,
   "metadata": {},
   "outputs": [
    {
     "data": {
      "text/plain": [
       "crime rate                            73.986578\n",
       "residential land zone                543.936814\n",
       "business acres                        47.064442\n",
       "Charles River                          0.064513\n",
       "nitric oxides                          0.013428\n",
       "number of rooms                        0.493671\n",
       "age                                  792.358399\n",
       "distances to employment centres        4.434015\n",
       "accessibility to highways             75.816366\n",
       "property-tax                       28404.759488\n",
       "pupil-teacher ratio                    4.686989\n",
       "lower income levels                   50.994760\n",
       "dtype: float64"
      ]
     },
     "execution_count": 5,
     "metadata": {},
     "output_type": "execute_result"
    }
   ],
   "source": [
    "X.var(axis=0)"
   ]
  },
  {
   "cell_type": "code",
   "execution_count": 6,
   "metadata": {},
   "outputs": [],
   "source": [
    "from sklearn.feature_selection import VarianceThreshold\n",
    "select_features = VarianceThreshold(threshold=8.0) # Scaling before applying feature selection can also be done"
   ]
  },
  {
   "cell_type": "code",
   "execution_count": 7,
   "metadata": {},
   "outputs": [],
   "source": [
    "X_new = select_features.fit_transform(X)"
   ]
  },
  {
   "cell_type": "code",
   "execution_count": 8,
   "metadata": {},
   "outputs": [
    {
     "data": {
      "text/plain": [
       "(506, 7)"
      ]
     },
     "execution_count": 8,
     "metadata": {},
     "output_type": "execute_result"
    }
   ],
   "source": [
    "X_new.shape"
   ]
  },
  {
   "cell_type": "code",
   "execution_count": 9,
   "metadata": {},
   "outputs": [
    {
     "data": {
      "text/plain": [
       "array([ True,  True,  True, False, False, False,  True, False,  True,\n",
       "        True, False,  True])"
      ]
     },
     "execution_count": 9,
     "metadata": {},
     "output_type": "execute_result"
    }
   ],
   "source": [
    "select_features.get_support()"
   ]
  },
  {
   "cell_type": "code",
   "execution_count": 10,
   "metadata": {},
   "outputs": [
    {
     "data": {
      "text/html": [
       "<div>\n",
       "<style scoped>\n",
       "    .dataframe tbody tr th:only-of-type {\n",
       "        vertical-align: middle;\n",
       "    }\n",
       "\n",
       "    .dataframe tbody tr th {\n",
       "        vertical-align: top;\n",
       "    }\n",
       "\n",
       "    .dataframe thead th {\n",
       "        text-align: right;\n",
       "    }\n",
       "</style>\n",
       "<table border=\"1\" class=\"dataframe\">\n",
       "  <thead>\n",
       "    <tr style=\"text-align: right;\">\n",
       "      <th></th>\n",
       "      <th>crime rate</th>\n",
       "      <th>residential land zone</th>\n",
       "      <th>business acres</th>\n",
       "      <th>age</th>\n",
       "      <th>accessibility to highways</th>\n",
       "      <th>property-tax</th>\n",
       "      <th>lower income levels</th>\n",
       "    </tr>\n",
       "  </thead>\n",
       "  <tbody>\n",
       "    <tr>\n",
       "      <th>0</th>\n",
       "      <td>0.00632</td>\n",
       "      <td>18.0</td>\n",
       "      <td>2.31</td>\n",
       "      <td>65.2</td>\n",
       "      <td>1.0</td>\n",
       "      <td>296.0</td>\n",
       "      <td>4.98</td>\n",
       "    </tr>\n",
       "    <tr>\n",
       "      <th>1</th>\n",
       "      <td>0.02731</td>\n",
       "      <td>0.0</td>\n",
       "      <td>7.07</td>\n",
       "      <td>78.9</td>\n",
       "      <td>2.0</td>\n",
       "      <td>242.0</td>\n",
       "      <td>9.14</td>\n",
       "    </tr>\n",
       "    <tr>\n",
       "      <th>2</th>\n",
       "      <td>0.02729</td>\n",
       "      <td>0.0</td>\n",
       "      <td>7.07</td>\n",
       "      <td>61.1</td>\n",
       "      <td>2.0</td>\n",
       "      <td>242.0</td>\n",
       "      <td>4.03</td>\n",
       "    </tr>\n",
       "    <tr>\n",
       "      <th>3</th>\n",
       "      <td>0.03237</td>\n",
       "      <td>0.0</td>\n",
       "      <td>2.18</td>\n",
       "      <td>45.8</td>\n",
       "      <td>3.0</td>\n",
       "      <td>222.0</td>\n",
       "      <td>2.94</td>\n",
       "    </tr>\n",
       "    <tr>\n",
       "      <th>4</th>\n",
       "      <td>0.06905</td>\n",
       "      <td>0.0</td>\n",
       "      <td>2.18</td>\n",
       "      <td>54.2</td>\n",
       "      <td>3.0</td>\n",
       "      <td>222.0</td>\n",
       "      <td>5.33</td>\n",
       "    </tr>\n",
       "  </tbody>\n",
       "</table>\n",
       "</div>"
      ],
      "text/plain": [
       "   crime rate  residential land zone  business acres   age  \\\n",
       "0     0.00632                   18.0            2.31  65.2   \n",
       "1     0.02731                    0.0            7.07  78.9   \n",
       "2     0.02729                    0.0            7.07  61.1   \n",
       "3     0.03237                    0.0            2.18  45.8   \n",
       "4     0.06905                    0.0            2.18  54.2   \n",
       "\n",
       "   accessibility to highways  property-tax  lower income levels  \n",
       "0                        1.0         296.0                 4.98  \n",
       "1                        2.0         242.0                 9.14  \n",
       "2                        2.0         242.0                 4.03  \n",
       "3                        3.0         222.0                 2.94  \n",
       "4                        3.0         222.0                 5.33  "
      ]
     },
     "execution_count": 10,
     "metadata": {},
     "output_type": "execute_result"
    }
   ],
   "source": [
    "X_new = pd.DataFrame(X_new, columns=X.columns[select_features.get_support()])\n",
    "X_new.head()"
   ]
  },
  {
   "cell_type": "code",
   "execution_count": 11,
   "metadata": {},
   "outputs": [
    {
     "data": {
      "text/plain": [
       "((404, 7), (102, 7), (404,), (102,))"
      ]
     },
     "execution_count": 11,
     "metadata": {},
     "output_type": "execute_result"
    }
   ],
   "source": [
    "X_train, X_test, y_train, y_test = train_test_split(X_new, y, test_size=0.2, random_state=0)\n",
    "X_train.shape, X_test.shape, y_train.shape, y_test.shape"
   ]
  },
  {
   "cell_type": "code",
   "execution_count": 12,
   "metadata": {},
   "outputs": [
    {
     "data": {
      "text/html": [
       "<table class=\"simpletable\">\n",
       "<caption>OLS Regression Results</caption>\n",
       "<tr>\n",
       "  <th>Dep. Variable:</th>    <td>Median Home Value</td> <th>  R-squared:         </th> <td>   0.622</td>\n",
       "</tr>\n",
       "<tr>\n",
       "  <th>Model:</th>                   <td>OLS</td>        <th>  Adj. R-squared:    </th> <td>   0.616</td>\n",
       "</tr>\n",
       "<tr>\n",
       "  <th>Method:</th>             <td>Least Squares</td>   <th>  F-statistic:       </th> <td>   93.23</td>\n",
       "</tr>\n",
       "<tr>\n",
       "  <th>Date:</th>             <td>Sat, 01 Jan 2022</td>  <th>  Prob (F-statistic):</th> <td>9.53e-80</td>\n",
       "</tr>\n",
       "<tr>\n",
       "  <th>Time:</th>                 <td>16:44:05</td>      <th>  Log-Likelihood:    </th> <td> -1274.3</td>\n",
       "</tr>\n",
       "<tr>\n",
       "  <th>No. Observations:</th>      <td>   404</td>       <th>  AIC:               </th> <td>   2565.</td>\n",
       "</tr>\n",
       "<tr>\n",
       "  <th>Df Residuals:</th>          <td>   396</td>       <th>  BIC:               </th> <td>   2597.</td>\n",
       "</tr>\n",
       "<tr>\n",
       "  <th>Df Model:</th>              <td>     7</td>       <th>                     </th>     <td> </td>   \n",
       "</tr>\n",
       "<tr>\n",
       "  <th>Covariance Type:</th>      <td>nonrobust</td>     <th>                     </th>     <td> </td>   \n",
       "</tr>\n",
       "</table>\n",
       "<table class=\"simpletable\">\n",
       "<tr>\n",
       "              <td></td>                 <th>coef</th>     <th>std err</th>      <th>t</th>      <th>P>|t|</th>  <th>[0.025</th>    <th>0.975]</th>  \n",
       "</tr>\n",
       "<tr>\n",
       "  <th>const</th>                     <td>   33.7357</td> <td>    1.319</td> <td>   25.574</td> <td> 0.000</td> <td>   31.142</td> <td>   36.329</td>\n",
       "</tr>\n",
       "<tr>\n",
       "  <th>crime rate</th>                <td>   -0.0704</td> <td>    0.046</td> <td>   -1.516</td> <td> 0.130</td> <td>   -0.162</td> <td>    0.021</td>\n",
       "</tr>\n",
       "<tr>\n",
       "  <th>residential land zone</th>     <td>    0.0717</td> <td>    0.016</td> <td>    4.536</td> <td> 0.000</td> <td>    0.041</td> <td>    0.103</td>\n",
       "</tr>\n",
       "<tr>\n",
       "  <th>business acres</th>            <td>    0.0168</td> <td>    0.074</td> <td>    0.228</td> <td> 0.820</td> <td>   -0.128</td> <td>    0.162</td>\n",
       "</tr>\n",
       "<tr>\n",
       "  <th>age</th>                       <td>    0.0717</td> <td>    0.015</td> <td>    4.733</td> <td> 0.000</td> <td>    0.042</td> <td>    0.101</td>\n",
       "</tr>\n",
       "<tr>\n",
       "  <th>accessibility to highways</th> <td>    0.2468</td> <td>    0.085</td> <td>    2.897</td> <td> 0.004</td> <td>    0.079</td> <td>    0.414</td>\n",
       "</tr>\n",
       "<tr>\n",
       "  <th>property-tax</th>              <td>   -0.0195</td> <td>    0.005</td> <td>   -3.968</td> <td> 0.000</td> <td>   -0.029</td> <td>   -0.010</td>\n",
       "</tr>\n",
       "<tr>\n",
       "  <th>lower income levels</th>       <td>   -0.8925</td> <td>    0.055</td> <td>  -16.128</td> <td> 0.000</td> <td>   -1.001</td> <td>   -0.784</td>\n",
       "</tr>\n",
       "</table>\n",
       "<table class=\"simpletable\">\n",
       "<tr>\n",
       "  <th>Omnibus:</th>       <td>102.728</td> <th>  Durbin-Watson:     </th> <td>   1.996</td>\n",
       "</tr>\n",
       "<tr>\n",
       "  <th>Prob(Omnibus):</th> <td> 0.000</td>  <th>  Jarque-Bera (JB):  </th> <td> 212.253</td>\n",
       "</tr>\n",
       "<tr>\n",
       "  <th>Skew:</th>          <td> 1.344</td>  <th>  Prob(JB):          </th> <td>8.12e-47</td>\n",
       "</tr>\n",
       "<tr>\n",
       "  <th>Kurtosis:</th>      <td> 5.320</td>  <th>  Cond. No.          </th> <td>2.05e+03</td>\n",
       "</tr>\n",
       "</table><br/><br/>Notes:<br/>[1] Standard Errors assume that the covariance matrix of the errors is correctly specified.<br/>[2] The condition number is large, 2.05e+03. This might indicate that there are<br/>strong multicollinearity or other numerical problems."
      ],
      "text/plain": [
       "<class 'statsmodels.iolib.summary.Summary'>\n",
       "\"\"\"\n",
       "                            OLS Regression Results                            \n",
       "==============================================================================\n",
       "Dep. Variable:      Median Home Value   R-squared:                       0.622\n",
       "Model:                            OLS   Adj. R-squared:                  0.616\n",
       "Method:                 Least Squares   F-statistic:                     93.23\n",
       "Date:                Sat, 01 Jan 2022   Prob (F-statistic):           9.53e-80\n",
       "Time:                        16:44:05   Log-Likelihood:                -1274.3\n",
       "No. Observations:                 404   AIC:                             2565.\n",
       "Df Residuals:                     396   BIC:                             2597.\n",
       "Df Model:                           7                                         \n",
       "Covariance Type:            nonrobust                                         \n",
       "=============================================================================================\n",
       "                                coef    std err          t      P>|t|      [0.025      0.975]\n",
       "---------------------------------------------------------------------------------------------\n",
       "const                        33.7357      1.319     25.574      0.000      31.142      36.329\n",
       "crime rate                   -0.0704      0.046     -1.516      0.130      -0.162       0.021\n",
       "residential land zone         0.0717      0.016      4.536      0.000       0.041       0.103\n",
       "business acres                0.0168      0.074      0.228      0.820      -0.128       0.162\n",
       "age                           0.0717      0.015      4.733      0.000       0.042       0.101\n",
       "accessibility to highways     0.2468      0.085      2.897      0.004       0.079       0.414\n",
       "property-tax                 -0.0195      0.005     -3.968      0.000      -0.029      -0.010\n",
       "lower income levels          -0.8925      0.055    -16.128      0.000      -1.001      -0.784\n",
       "==============================================================================\n",
       "Omnibus:                      102.728   Durbin-Watson:                   1.996\n",
       "Prob(Omnibus):                  0.000   Jarque-Bera (JB):              212.253\n",
       "Skew:                           1.344   Prob(JB):                     8.12e-47\n",
       "Kurtosis:                       5.320   Cond. No.                     2.05e+03\n",
       "==============================================================================\n",
       "\n",
       "Notes:\n",
       "[1] Standard Errors assume that the covariance matrix of the errors is correctly specified.\n",
       "[2] The condition number is large, 2.05e+03. This might indicate that there are\n",
       "strong multicollinearity or other numerical problems.\n",
       "\"\"\""
      ]
     },
     "execution_count": 12,
     "metadata": {},
     "output_type": "execute_result"
    }
   ],
   "source": [
    "X_train_with_intercept = sm.add_constant(X_train)\n",
    "model = sm.OLS(y_train, X_train_with_intercept)\n",
    "result = model.fit()\n",
    "result.summary()"
   ]
  },
  {
   "cell_type": "code",
   "execution_count": 13,
   "metadata": {},
   "outputs": [
    {
     "name": "stdout",
     "output_type": "stream",
     "text": [
      "Training R-squared: 0.62\n",
      "Testing R-squared: 0.44\n"
     ]
    }
   ],
   "source": [
    "lr = LinearRegression().fit(X_train, y_train)\n",
    "print(f'Training R-squared: {lr.score(X_train, y_train):.2f}')\n",
    "print(f'Testing R-squared: {lr.score(X_test, y_test):.2f}')"
   ]
  },
  {
   "cell_type": "markdown",
   "metadata": {},
   "source": [
    "# Univariate Statistics"
   ]
  },
  {
   "cell_type": "code",
   "execution_count": 14,
   "metadata": {},
   "outputs": [],
   "source": [
    "from sklearn.metrics import accuracy_score, precision_score, recall_score, f1_score\n",
    "from sklearn.linear_model import LogisticRegression"
   ]
  },
  {
   "cell_type": "code",
   "execution_count": 15,
   "metadata": {},
   "outputs": [
    {
     "name": "stdout",
     "output_type": "stream",
     "text": [
      "(768, 9)\n"
     ]
    }
   ],
   "source": [
    "diabetes = pd.read_csv('data/diabetes.csv')\n",
    "print(diabetes.shape)"
   ]
  },
  {
   "cell_type": "code",
   "execution_count": 16,
   "metadata": {},
   "outputs": [
    {
     "data": {
      "text/html": [
       "<div>\n",
       "<style scoped>\n",
       "    .dataframe tbody tr th:only-of-type {\n",
       "        vertical-align: middle;\n",
       "    }\n",
       "\n",
       "    .dataframe tbody tr th {\n",
       "        vertical-align: top;\n",
       "    }\n",
       "\n",
       "    .dataframe thead th {\n",
       "        text-align: right;\n",
       "    }\n",
       "</style>\n",
       "<table border=\"1\" class=\"dataframe\">\n",
       "  <thead>\n",
       "    <tr style=\"text-align: right;\">\n",
       "      <th></th>\n",
       "      <th>Pregnancies</th>\n",
       "      <th>Glucose</th>\n",
       "      <th>BP</th>\n",
       "      <th>Skin Thickness</th>\n",
       "      <th>Insulin</th>\n",
       "      <th>Mass</th>\n",
       "      <th>Pedigree</th>\n",
       "      <th>Age</th>\n",
       "      <th>class</th>\n",
       "    </tr>\n",
       "  </thead>\n",
       "  <tbody>\n",
       "    <tr>\n",
       "      <th>0</th>\n",
       "      <td>6</td>\n",
       "      <td>148</td>\n",
       "      <td>72</td>\n",
       "      <td>35</td>\n",
       "      <td>0</td>\n",
       "      <td>33.6</td>\n",
       "      <td>0.627</td>\n",
       "      <td>50</td>\n",
       "      <td>1</td>\n",
       "    </tr>\n",
       "    <tr>\n",
       "      <th>1</th>\n",
       "      <td>1</td>\n",
       "      <td>85</td>\n",
       "      <td>66</td>\n",
       "      <td>29</td>\n",
       "      <td>0</td>\n",
       "      <td>26.6</td>\n",
       "      <td>0.351</td>\n",
       "      <td>31</td>\n",
       "      <td>0</td>\n",
       "    </tr>\n",
       "    <tr>\n",
       "      <th>2</th>\n",
       "      <td>8</td>\n",
       "      <td>183</td>\n",
       "      <td>64</td>\n",
       "      <td>0</td>\n",
       "      <td>0</td>\n",
       "      <td>23.3</td>\n",
       "      <td>0.672</td>\n",
       "      <td>32</td>\n",
       "      <td>1</td>\n",
       "    </tr>\n",
       "    <tr>\n",
       "      <th>3</th>\n",
       "      <td>1</td>\n",
       "      <td>89</td>\n",
       "      <td>66</td>\n",
       "      <td>23</td>\n",
       "      <td>94</td>\n",
       "      <td>28.1</td>\n",
       "      <td>0.167</td>\n",
       "      <td>21</td>\n",
       "      <td>0</td>\n",
       "    </tr>\n",
       "    <tr>\n",
       "      <th>4</th>\n",
       "      <td>0</td>\n",
       "      <td>137</td>\n",
       "      <td>40</td>\n",
       "      <td>35</td>\n",
       "      <td>168</td>\n",
       "      <td>43.1</td>\n",
       "      <td>2.288</td>\n",
       "      <td>33</td>\n",
       "      <td>1</td>\n",
       "    </tr>\n",
       "  </tbody>\n",
       "</table>\n",
       "</div>"
      ],
      "text/plain": [
       "   Pregnancies  Glucose  BP  Skin Thickness  Insulin  Mass  Pedigree  Age  \\\n",
       "0            6      148  72              35        0  33.6     0.627   50   \n",
       "1            1       85  66              29        0  26.6     0.351   31   \n",
       "2            8      183  64               0        0  23.3     0.672   32   \n",
       "3            1       89  66              23       94  28.1     0.167   21   \n",
       "4            0      137  40              35      168  43.1     2.288   33   \n",
       "\n",
       "   class  \n",
       "0      1  \n",
       "1      0  \n",
       "2      1  \n",
       "3      0  \n",
       "4      1  "
      ]
     },
     "execution_count": 16,
     "metadata": {},
     "output_type": "execute_result"
    }
   ],
   "source": [
    "diabetes.head()"
   ]
  },
  {
   "cell_type": "code",
   "execution_count": 17,
   "metadata": {},
   "outputs": [],
   "source": [
    "X = diabetes.drop(columns='class')\n",
    "y = diabetes['class']"
   ]
  },
  {
   "cell_type": "code",
   "execution_count": 18,
   "metadata": {},
   "outputs": [],
   "source": [
    "X = X.astype('float64')"
   ]
  },
  {
   "cell_type": "code",
   "execution_count": 19,
   "metadata": {},
   "outputs": [
    {
     "name": "stdout",
     "output_type": "stream",
     "text": [
      "<class 'pandas.core.frame.DataFrame'>\n",
      "RangeIndex: 768 entries, 0 to 767\n",
      "Data columns (total 8 columns):\n",
      " #   Column          Non-Null Count  Dtype  \n",
      "---  ------          --------------  -----  \n",
      " 0   Pregnancies     768 non-null    float64\n",
      " 1   Glucose         768 non-null    float64\n",
      " 2   BP              768 non-null    float64\n",
      " 3   Skin Thickness  768 non-null    float64\n",
      " 4   Insulin         768 non-null    float64\n",
      " 5   Mass            768 non-null    float64\n",
      " 6   Pedigree        768 non-null    float64\n",
      " 7   Age             768 non-null    float64\n",
      "dtypes: float64(8)\n",
      "memory usage: 48.1 KB\n"
     ]
    }
   ],
   "source": [
    "X.info()"
   ]
  },
  {
   "cell_type": "code",
   "execution_count": 20,
   "metadata": {},
   "outputs": [],
   "source": [
    "from sklearn.feature_selection import chi2, SelectKBest\n",
    "select_features = SelectKBest(chi2, k=3)\n",
    "X_new = select_features.fit_transform(X, y)"
   ]
  },
  {
   "cell_type": "code",
   "execution_count": 21,
   "metadata": {},
   "outputs": [
    {
     "data": {
      "text/html": [
       "<div>\n",
       "<style scoped>\n",
       "    .dataframe tbody tr th:only-of-type {\n",
       "        vertical-align: middle;\n",
       "    }\n",
       "\n",
       "    .dataframe tbody tr th {\n",
       "        vertical-align: top;\n",
       "    }\n",
       "\n",
       "    .dataframe thead th {\n",
       "        text-align: right;\n",
       "    }\n",
       "</style>\n",
       "<table border=\"1\" class=\"dataframe\">\n",
       "  <thead>\n",
       "    <tr style=\"text-align: right;\">\n",
       "      <th></th>\n",
       "      <th>Glucose</th>\n",
       "      <th>Insulin</th>\n",
       "      <th>Age</th>\n",
       "    </tr>\n",
       "  </thead>\n",
       "  <tbody>\n",
       "    <tr>\n",
       "      <th>0</th>\n",
       "      <td>148.0</td>\n",
       "      <td>0.0</td>\n",
       "      <td>50.0</td>\n",
       "    </tr>\n",
       "    <tr>\n",
       "      <th>1</th>\n",
       "      <td>85.0</td>\n",
       "      <td>0.0</td>\n",
       "      <td>31.0</td>\n",
       "    </tr>\n",
       "    <tr>\n",
       "      <th>2</th>\n",
       "      <td>183.0</td>\n",
       "      <td>0.0</td>\n",
       "      <td>32.0</td>\n",
       "    </tr>\n",
       "    <tr>\n",
       "      <th>3</th>\n",
       "      <td>89.0</td>\n",
       "      <td>94.0</td>\n",
       "      <td>21.0</td>\n",
       "    </tr>\n",
       "    <tr>\n",
       "      <th>4</th>\n",
       "      <td>137.0</td>\n",
       "      <td>168.0</td>\n",
       "      <td>33.0</td>\n",
       "    </tr>\n",
       "  </tbody>\n",
       "</table>\n",
       "</div>"
      ],
      "text/plain": [
       "   Glucose  Insulin   Age\n",
       "0    148.0      0.0  50.0\n",
       "1     85.0      0.0  31.0\n",
       "2    183.0      0.0  32.0\n",
       "3     89.0     94.0  21.0\n",
       "4    137.0    168.0  33.0"
      ]
     },
     "execution_count": 21,
     "metadata": {},
     "output_type": "execute_result"
    }
   ],
   "source": [
    "X_new = pd.DataFrame(X_new, columns=X.columns[select_features.get_support()])\n",
    "X_new.head()"
   ]
  },
  {
   "cell_type": "code",
   "execution_count": 22,
   "metadata": {},
   "outputs": [
    {
     "data": {
      "text/plain": [
       "['Pregnancies',\n",
       " 'Glucose',\n",
       " 'BP',\n",
       " 'Skin Thickness',\n",
       " 'Insulin',\n",
       " 'Mass',\n",
       " 'Pedigree',\n",
       " 'Age']"
      ]
     },
     "execution_count": 22,
     "metadata": {},
     "output_type": "execute_result"
    }
   ],
   "source": [
    "FEATURES = list(X.columns)\n",
    "FEATURES"
   ]
  },
  {
   "cell_type": "code",
   "execution_count": 23,
   "metadata": {},
   "outputs": [],
   "source": [
    "def build_model(target,\n",
    "                    features,\n",
    "                    dataset,\n",
    "                    preprocess_fn,\n",
    "                    *hyperparameters):\n",
    "\n",
    "    X = dataset[features]\n",
    "    y = dataset[target]\n",
    "    X = preprocess_fn(X, y, *hyperparameters)\n",
    "    X_train, X_test, y_train, y_test = train_test_split(X, y, test_size=0.2, random_state=0)\n",
    "    model = logistic_fn(X_train, y_train)\n",
    "    y_pred = model.predict(X_test)\n",
    "\n",
    "    acc = accuracy_score(y_test, y_pred)\n",
    "    prec = precision_score(y_test, y_pred)\n",
    "    rec = recall_score(y_test, y_pred)\n",
    "    f1 = f1_score(y_test, y_pred)\n",
    "\n",
    "    return {\n",
    "        'accuracy': acc,\n",
    "        'precision': prec,\n",
    "        'recall': rec,\n",
    "        'f1': f1\n",
    "    }"
   ]
  },
  {
   "cell_type": "code",
   "execution_count": 24,
   "metadata": {},
   "outputs": [],
   "source": [
    "def compare_results(results):\n",
    "    for key in results:\n",
    "        print(f'Test: {key}')\n",
    "\n",
    "        print()\n",
    "        print(f'Accuracy: {results[key][\"accuracy\"]:.2f}')\n",
    "        print(f'Precision: {results[key][\"precision\"]:.2f}')\n",
    "        print(f'Recall: {results[key][\"recall\"]:.2f}')\n",
    "        print(f'F1: {results[key][\"f1\"]:.2f}')\n",
    "        print()"
   ]
  },
  {
   "cell_type": "code",
   "execution_count": 42,
   "metadata": {},
   "outputs": [],
   "source": [
    "def visualize_results_kbest(results, metric):\n",
    "\n",
    "    n_components = list(range(1, 9))\n",
    "    f1 = [results[key][metric] for key in results]\n",
    "\n",
    "    plt.figure(figsize=(12, 10))\n",
    "    plt.plot(n_components, f1, '-o')\n",
    "    plt.ylim([0, 1])\n",
    "    plt.xlabel('Number of components')\n",
    "    plt.ylabel(metric)\n",
    "    plt.show();"
   ]
  },
  {
   "cell_type": "code",
   "execution_count": 35,
   "metadata": {},
   "outputs": [],
   "source": [
    "def logistic_fn(X_train, y_train):\n",
    "    model = LogisticRegression(solver='liblinear', random_state=0)\n",
    "    model.fit(X_train, y_train)\n",
    "    return model"
   ]
  },
  {
   "cell_type": "code",
   "execution_count": 36,
   "metadata": {},
   "outputs": [],
   "source": [
    "def apply_chi2(x, y, k):\n",
    "    select_features = SelectKBest(chi2, k=k)\n",
    "    X_new = select_features.fit_transform(x, y)\n",
    "    return pd.DataFrame(X_new, columns=x.columns[select_features.get_support()])"
   ]
  },
  {
   "cell_type": "code",
   "execution_count": 37,
   "metadata": {},
   "outputs": [],
   "source": [
    "result_dict = {}\n",
    "\n",
    "for i in range(1, 9):\n",
    "    result_dict['chi2_' + str(i)] = build_model('class', FEATURES, diabetes, apply_chi2, i)"
   ]
  },
  {
   "cell_type": "code",
   "execution_count": 38,
   "metadata": {},
   "outputs": [
    {
     "name": "stdout",
     "output_type": "stream",
     "text": [
      "Test: chi2_1\n",
      "\n",
      "Accuracy: 0.71\n",
      "Precision: 0.75\n",
      "Recall: 0.06\n",
      "F1: 0.12\n",
      "\n",
      "Test: chi2_2\n",
      "\n",
      "Accuracy: 0.79\n",
      "Precision: 0.69\n",
      "Recall: 0.53\n",
      "F1: 0.60\n",
      "\n",
      "Test: chi2_3\n",
      "\n",
      "Accuracy: 0.76\n",
      "Precision: 0.64\n",
      "Recall: 0.49\n",
      "F1: 0.55\n",
      "\n",
      "Test: chi2_4\n",
      "\n",
      "Accuracy: 0.81\n",
      "Precision: 0.74\n",
      "Recall: 0.55\n",
      "F1: 0.63\n",
      "\n",
      "Test: chi2_5\n",
      "\n",
      "Accuracy: 0.80\n",
      "Precision: 0.71\n",
      "Recall: 0.57\n",
      "F1: 0.64\n",
      "\n",
      "Test: chi2_6\n",
      "\n",
      "Accuracy: 0.80\n",
      "Precision: 0.71\n",
      "Recall: 0.57\n",
      "F1: 0.64\n",
      "\n",
      "Test: chi2_7\n",
      "\n",
      "Accuracy: 0.81\n",
      "Precision: 0.74\n",
      "Recall: 0.60\n",
      "F1: 0.66\n",
      "\n",
      "Test: chi2_8\n",
      "\n",
      "Accuracy: 0.82\n",
      "Precision: 0.76\n",
      "Recall: 0.60\n",
      "F1: 0.67\n",
      "\n"
     ]
    }
   ],
   "source": [
    "compare_results(result_dict)"
   ]
  },
  {
   "cell_type": "code",
   "execution_count": 43,
   "metadata": {},
   "outputs": [
    {
     "data": {
      "image/png": "[encoded data removed]",
      "text/plain": [
       "<Figure size 864x720 with 1 Axes>"
      ]
     },
     "metadata": {
      "needs_background": "light"
     },
     "output_type": "display_data"
    },
    {
     "data": {
      "image/png": "[encoded data removed]",
      "text/plain": [
       "<Figure size 864x720 with 1 Axes>"
      ]
     },
     "metadata": {
      "needs_background": "light"
     },
     "output_type": "display_data"
    },
    {
     "data": {
      "image/png": "[encoded data removed]",
      "text/plain": [
       "<Figure size 864x720 with 1 Axes>"
      ]
     },
     "metadata": {
      "needs_background": "light"
     },
     "output_type": "display_data"
    },
    {
     "data": {
      "image/png": "[encoded data removed]",
      "text/plain": [
       "<Figure size 864x720 with 1 Axes>"
      ]
     },
     "metadata": {
      "needs_background": "light"
     },
     "output_type": "display_data"
    }
   ],
   "source": [
    "for metric in ['accuracy', 'precision', 'recall', 'f1']:\n",
    "    visualize_results_kbest(result_dict, metric)"
   ]
  },
  {
   "cell_type": "code",
   "execution_count": 44,
   "metadata": {},
   "outputs": [],
   "source": [
    "from sklearn.feature_selection import f_classif # ANOVA F-test\n",
    "\n",
    "def apply_f_classif(x, y, k):\n",
    "    select_features = SelectKBest(f_classif, k=k)\n",
    "    X_new = select_features.fit_transform(x, y)\n",
    "    return pd.DataFrame(X_new, columns=x.columns[select_features.get_support()])"
   ]
  },
  {
   "cell_type": "code",
   "execution_count": 45,
   "metadata": {},
   "outputs": [
    {
     "name": "stdout",
     "output_type": "stream",
     "text": [
      "Test: f_classif_1\n",
      "\n",
      "Accuracy: 0.78\n",
      "Precision: 0.69\n",
      "Recall: 0.51\n",
      "F1: 0.59\n",
      "\n",
      "Test: f_classif_2\n",
      "\n",
      "Accuracy: 0.79\n",
      "Precision: 0.70\n",
      "Recall: 0.55\n",
      "F1: 0.62\n",
      "\n",
      "Test: f_classif_3\n",
      "\n",
      "Accuracy: 0.80\n",
      "Precision: 0.72\n",
      "Recall: 0.55\n",
      "F1: 0.63\n",
      "\n",
      "Test: f_classif_4\n",
      "\n",
      "Accuracy: 0.80\n",
      "Precision: 0.71\n",
      "Recall: 0.57\n",
      "F1: 0.64\n",
      "\n",
      "Test: f_classif_5\n",
      "\n",
      "Accuracy: 0.81\n",
      "Precision: 0.73\n",
      "Recall: 0.57\n",
      "F1: 0.64\n",
      "\n",
      "Test: f_classif_6\n",
      "\n",
      "Accuracy: 0.81\n",
      "Precision: 0.73\n",
      "Recall: 0.57\n",
      "F1: 0.64\n",
      "\n",
      "Test: f_classif_7\n",
      "\n",
      "Accuracy: 0.81\n",
      "Precision: 0.73\n",
      "Recall: 0.57\n",
      "F1: 0.64\n",
      "\n",
      "Test: f_classif_8\n",
      "\n",
      "Accuracy: 0.82\n",
      "Precision: 0.76\n",
      "Recall: 0.60\n",
      "F1: 0.67\n",
      "\n"
     ]
    },
    {
     "data": {
      "image/png": "[encoded data removed]",
      "text/plain": [
       "<Figure size 864x720 with 1 Axes>"
      ]
     },
     "metadata": {
      "needs_background": "light"
     },
     "output_type": "display_data"
    },
    {
     "data": {
      "image/png": "[encoded data removed]",
      "text/plain": [
       "<Figure size 864x720 with 1 Axes>"
      ]
     },
     "metadata": {
      "needs_background": "light"
     },
     "output_type": "display_data"
    },
    {
     "data": {
      "image/png": "[encoded data removed]",
      "text/plain": [
       "<Figure size 864x720 with 1 Axes>"
      ]
     },
     "metadata": {
      "needs_background": "light"
     },
     "output_type": "display_data"
    },
    {
     "data": {
      "image/png": "[encoded data removed]",
      "text/plain": [
       "<Figure size 864x720 with 1 Axes>"
      ]
     },
     "metadata": {
      "needs_background": "light"
     },
     "output_type": "display_data"
    }
   ],
   "source": [
    "result_dict = {}\n",
    "for i in range(1, 9):\n",
    "    result_dict['f_classif_' + str(i)] = build_model('class', FEATURES, diabetes, apply_f_classif, i)\n",
    "\n",
    "compare_results(result_dict)\n",
    "\n",
    "for metric in ['accuracy', 'precision', 'recall', 'f1']:\n",
    "    visualize_results_kbest(result_dict, metric)"
   ]
  },
  {
   "cell_type": "code",
   "execution_count": 46,
   "metadata": {},
   "outputs": [],
   "source": [
    "from sklearn.feature_selection import mutual_info_classif, SelectPercentile\n",
    "def apply_mutual_info(x, y, percentile):\n",
    "    select_features = SelectPercentile(mutual_info_classif, percentile=percentile)\n",
    "    X_new = select_features.fit_transform(x, y)\n",
    "    return pd.DataFrame(X_new, columns=x.columns[select_features.get_support()])"
   ]
  },
  {
   "cell_type": "code",
   "execution_count": 48,
   "metadata": {},
   "outputs": [],
   "source": [
    "def visualize_results_percentile(result_dict, metric):\n",
    "    n_components = list(range(1, 100, 10))\n",
    "    logs = [result_dict[key][metric] for key in result_dict]\n",
    "\n",
    "    plt.figure(figsize=(12, 10))\n",
    "    plt.plot(n_components, logs, '-o')\n",
    "\n",
    "    plt.ylim([0, 1])\n",
    "    plt.xlabel('Percentile')\n",
    "    plt.ylabel(metric)\n",
    "    plt.show();"
   ]
  },
  {
   "cell_type": "code",
   "execution_count": 49,
   "metadata": {},
   "outputs": [
    {
     "data": {
      "image/png": "[encoded data removed]",
      "text/plain": [
       "<Figure size 864x720 with 1 Axes>"
      ]
     },
     "metadata": {
      "needs_background": "light"
     },
     "output_type": "display_data"
    },
    {
     "data": {
      "image/png": "[encoded data removed]",
      "text/plain": [
       "<Figure size 864x720 with 1 Axes>"
      ]
     },
     "metadata": {
      "needs_background": "light"
     },
     "output_type": "display_data"
    },
    {
     "data": {
      "image/png": "[encoded data removed]",
      "text/plain": [
       "<Figure size 864x720 with 1 Axes>"
      ]
     },
     "metadata": {
      "needs_background": "light"
     },
     "output_type": "display_data"
    },
    {
     "data": {
      "image/png": "[encoded data removed]",
      "text/plain": [
       "<Figure size 864x720 with 1 Axes>"
      ]
     },
     "metadata": {
      "needs_background": "light"
     },
     "output_type": "display_data"
    }
   ],
   "source": [
    "result_dict = {}\n",
    "for i in range(1, 100, 10):\n",
    "    result_dict['mutual_info_' + str(i)] = build_model('class', FEATURES, diabetes, apply_mutual_info, i)\n",
    "\n",
    "for metric in ['accuracy', 'precision', 'recall', 'f1']:\n",
    "    visualize_results_percentile(result_dict, metric)"
   ]
  },
  {
   "cell_type": "markdown",
   "metadata": {},
   "source": [
    "# Dictionary Learning"
   ]
  },
  {
   "cell_type": "code",
   "execution_count": 50,
   "metadata": {},
   "outputs": [],
   "source": [
    "# Dictionary learning can be used to find sparse representations of complex data"
   ]
  },
  {
   "cell_type": "code",
   "execution_count": 51,
   "metadata": {},
   "outputs": [],
   "source": [
    "from sklearn.datasets import load_digits\n",
    "digits = load_digits()"
   ]
  },
  {
   "cell_type": "code",
   "execution_count": 52,
   "metadata": {},
   "outputs": [
    {
     "data": {
      "text/plain": [
       "(1797, 64)"
      ]
     },
     "execution_count": 52,
     "metadata": {},
     "output_type": "execute_result"
    }
   ],
   "source": [
    "digits.data.shape"
   ]
  },
  {
   "cell_type": "code",
   "execution_count": 64,
   "metadata": {},
   "outputs": [],
   "source": [
    "data = digits.data[:40, :]"
   ]
  },
  {
   "cell_type": "code",
   "execution_count": 65,
   "metadata": {},
   "outputs": [
    {
     "data": {
      "text/plain": [
       "(40, 64)"
      ]
     },
     "execution_count": 65,
     "metadata": {},
     "output_type": "execute_result"
    }
   ],
   "source": [
    "data.shape"
   ]
  },
  {
   "cell_type": "code",
   "execution_count": 66,
   "metadata": {},
   "outputs": [
    {
     "data": {
      "text/plain": [
       "<matplotlib.image.AxesImage at 0x10c0eb7ae88>"
      ]
     },
     "execution_count": 66,
     "metadata": {},
     "output_type": "execute_result"
    },
    {
     "data": {
      "image/png": "[encoded data removed]",
      "text/plain": [
       "<Figure size 432x288 with 1 Axes>"
      ]
     },
     "metadata": {
      "needs_background": "light"
     },
     "output_type": "display_data"
    }
   ],
   "source": [
    "plt.imshow(data[5].reshape(8, 8), cmap='Greens_r', interpolation='nearest')"
   ]
  },
  {
   "cell_type": "code",
   "execution_count": 67,
   "metadata": {},
   "outputs": [],
   "source": [
    "from sklearn.decomposition import DictionaryLearning\n",
    "dict_learn = DictionaryLearning(n_components=36, fit_algorithm='lars', transform_algorithm='lasso_lars')"
   ]
  },
  {
   "cell_type": "code",
   "execution_count": 68,
   "metadata": {},
   "outputs": [],
   "source": [
    "X_dict = dict_learn.fit_transform(data)"
   ]
  },
  {
   "cell_type": "code",
   "execution_count": 69,
   "metadata": {},
   "outputs": [
    {
     "data": {
      "text/plain": [
       "(40, 36)"
      ]
     },
     "execution_count": 69,
     "metadata": {},
     "output_type": "execute_result"
    }
   ],
   "source": [
    "X_dict.shape"
   ]
  },
  {
   "cell_type": "code",
   "execution_count": 70,
   "metadata": {},
   "outputs": [
    {
     "data": {
      "image/png": "[encoded data removed]",
      "text/plain": [
       "<Figure size 864x720 with 40 Axes>"
      ]
     },
     "metadata": {},
     "output_type": "display_data"
    }
   ],
   "source": [
    "fig = plt.figure(figsize=(12, 10))\n",
    "for i in range(40):\n",
    "\n",
    "    ax = fig.add_subplot(5, 8, i + 1, xticks=[], yticks=[])\n",
    "    ax.imshow(X_dict[i].reshape(6, 6), cmap='Greens_r', interpolation='nearest')"
   ]
  },
  {
   "cell_type": "code",
   "execution_count": 71,
   "metadata": {},
   "outputs": [
    {
     "data": {
      "text/plain": [
       "(36, 64)"
      ]
     },
     "execution_count": 71,
     "metadata": {},
     "output_type": "execute_result"
    }
   ],
   "source": [
    "dict_learn.components_.shape"
   ]
  },
  {
   "cell_type": "code",
   "execution_count": 73,
   "metadata": {},
   "outputs": [],
   "source": [
    "import numpy as np\n",
    "\n",
    "original = np.matmul(X_dict, dict_learn.components_)"
   ]
  },
  {
   "cell_type": "code",
   "execution_count": 74,
   "metadata": {},
   "outputs": [
    {
     "data": {
      "text/plain": [
       "(40, 64)"
      ]
     },
     "execution_count": 74,
     "metadata": {},
     "output_type": "execute_result"
    }
   ],
   "source": [
    "original.shape"
   ]
  },
  {
   "cell_type": "code",
   "execution_count": 76,
   "metadata": {},
   "outputs": [
    {
     "data": {
      "image/png": "[encoded data removed]",
      "text/plain": [
       "<Figure size 864x720 with 80 Axes>"
      ]
     },
     "metadata": {
      "needs_background": "light"
     },
     "output_type": "display_data"
    }
   ],
   "source": [
    "fig = plt.figure(figsize=(12, 10))\n",
    "\n",
    "a = 0\n",
    "b = 0\n",
    "\n",
    "for i in range(80):\n",
    "\n",
    "    if i%2 == 0:\n",
    "        ax = plt.subplot(8, 10, i+1)\n",
    "        ax.imshow(original[a].reshape(8, 8), cmap='Greys')\n",
    "        a+=1\n",
    "    else:\n",
    "        ax = plt.subplot(8, 10, i+1)\n",
    "        ax.imshow(data[b].reshape(8, 8), cmap='Greens_r')\n",
    "        b+=1"
   ]
  },
  {
   "cell_type": "code",
   "execution_count": null,
   "metadata": {},
   "outputs": [],
   "source": []
  }
 ],
 "metadata": {
  "interpreter": {
   "hash": "a5a8803176ba603454a120d2af569b11c3f41e6e81f2a81589e795246afd0d6d"
  },
  "kernelspec": {
   "display_name": "Python 3.7.6 64-bit ('base': conda)",
   "language": "python",
   "name": "python3"
  },
  "language_info": {
   "codemirror_mode": {
    "name": "ipython",
    "version": 3
   },
   "file_extension": ".py",
   "mimetype": "text/x-python",
   "name": "python",
   "nbconvert_exporter": "python",
   "pygments_lexer": "ipython3",
   "version": "3.7.6"
  },
  "orig_nbformat": 4
 },
 "nbformat": 4,
 "nbformat_minor": 2
}
