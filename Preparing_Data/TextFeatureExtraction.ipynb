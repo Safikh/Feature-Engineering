{
 "cells": [
  {
   "cell_type": "code",
   "execution_count": 1,
   "metadata": {},
   "outputs": [],
   "source": [
    "import pandas as pd\n",
    "import matplotlib.pyplot as plt\n",
    "\n",
    "import nltk\n",
    "from nltk import word_tokenize"
   ]
  },
  {
   "cell_type": "code",
   "execution_count": 3,
   "metadata": {},
   "outputs": [
    {
     "name": "stderr",
     "output_type": "stream",
     "text": [
      "[nltk_data] Downloading package wordnet to\n",
      "[nltk_data]     C:\\Users\\Safiuddin\\AppData\\Roaming\\nltk_data...\n",
      "[nltk_data]   Package wordnet is already up-to-date!\n",
      "[nltk_data] Downloading package punkt to\n",
      "[nltk_data]     C:\\Users\\Safiuddin\\AppData\\Roaming\\nltk_data...\n",
      "[nltk_data]   Package punkt is already up-to-date!\n"
     ]
    },
    {
     "data": {
      "text/plain": [
       "True"
      ]
     },
     "execution_count": 3,
     "metadata": {},
     "output_type": "execute_result"
    }
   ],
   "source": [
    "nltk.download('wordnet')\n",
    "nltk.download('punkt')"
   ]
  },
  {
   "cell_type": "code",
   "execution_count": 5,
   "metadata": {},
   "outputs": [
    {
     "data": {
      "text/html": [
       "<div>\n",
       "<style scoped>\n",
       "    .dataframe tbody tr th:only-of-type {\n",
       "        vertical-align: middle;\n",
       "    }\n",
       "\n",
       "    .dataframe tbody tr th {\n",
       "        vertical-align: top;\n",
       "    }\n",
       "\n",
       "    .dataframe thead th {\n",
       "        text-align: right;\n",
       "    }\n",
       "</style>\n",
       "<table border=\"1\" class=\"dataframe\">\n",
       "  <thead>\n",
       "    <tr style=\"text-align: right;\">\n",
       "      <th></th>\n",
       "      <th>reviewerID</th>\n",
       "      <th>asin</th>\n",
       "      <th>reviewerName</th>\n",
       "      <th>helpful</th>\n",
       "      <th>helpful_num</th>\n",
       "      <th>helpful_den</th>\n",
       "      <th>reviewText</th>\n",
       "      <th>overall</th>\n",
       "      <th>summary</th>\n",
       "      <th>unixReviewTime</th>\n",
       "      <th>reviewTime</th>\n",
       "      <th>exclamationcount</th>\n",
       "      <th>questioncount</th>\n",
       "      <th>charcount</th>\n",
       "      <th>wordcount</th>\n",
       "      <th>capcount</th>\n",
       "      <th>avgrating</th>\n",
       "      <th>diffrating</th>\n",
       "      <th>ishelpful</th>\n",
       "    </tr>\n",
       "  </thead>\n",
       "  <tbody>\n",
       "    <tr>\n",
       "      <th>0</th>\n",
       "      <td>A3NMPMELAZC8ZY</td>\n",
       "      <td>097293751X</td>\n",
       "      <td>Jakell</td>\n",
       "      <td>[3, 3]</td>\n",
       "      <td>3</td>\n",
       "      <td>3</td>\n",
       "      <td>This book is perfect!  I'm a first time new mo...</td>\n",
       "      <td>5</td>\n",
       "      <td>Great for newborns</td>\n",
       "      <td>1359244800</td>\n",
       "      <td>01 27, 2013</td>\n",
       "      <td>1</td>\n",
       "      <td>0</td>\n",
       "      <td>250</td>\n",
       "      <td>46</td>\n",
       "      <td>0</td>\n",
       "      <td>4.0</td>\n",
       "      <td>1.0</td>\n",
       "      <td>1</td>\n",
       "    </tr>\n",
       "    <tr>\n",
       "      <th>1</th>\n",
       "      <td>A3O4ATU0ENBKTU</td>\n",
       "      <td>097293751X</td>\n",
       "      <td>MAPN</td>\n",
       "      <td>[1, 1]</td>\n",
       "      <td>1</td>\n",
       "      <td>1</td>\n",
       "      <td>I use this so that our babysitter (grandma) ca...</td>\n",
       "      <td>5</td>\n",
       "      <td>Compact and Easy way to record the milestones</td>\n",
       "      <td>1361836800</td>\n",
       "      <td>02 26, 2013</td>\n",
       "      <td>0</td>\n",
       "      <td>0</td>\n",
       "      <td>734</td>\n",
       "      <td>148</td>\n",
       "      <td>0</td>\n",
       "      <td>4.0</td>\n",
       "      <td>1.0</td>\n",
       "      <td>1</td>\n",
       "    </tr>\n",
       "    <tr>\n",
       "      <th>2</th>\n",
       "      <td>A2SYNL4YX73KNY</td>\n",
       "      <td>097293751X</td>\n",
       "      <td>R. Davidson \"Jrdpa\"</td>\n",
       "      <td>[2, 2]</td>\n",
       "      <td>2</td>\n",
       "      <td>2</td>\n",
       "      <td>I like this log, but think it would work bette...</td>\n",
       "      <td>3</td>\n",
       "      <td>Needs clearer AM &amp; PM</td>\n",
       "      <td>1369008000</td>\n",
       "      <td>05 20, 2013</td>\n",
       "      <td>0</td>\n",
       "      <td>0</td>\n",
       "      <td>288</td>\n",
       "      <td>59</td>\n",
       "      <td>2</td>\n",
       "      <td>4.0</td>\n",
       "      <td>1.0</td>\n",
       "      <td>1</td>\n",
       "    </tr>\n",
       "    <tr>\n",
       "      <th>3</th>\n",
       "      <td>A2Q2A6JKY95RTP</td>\n",
       "      <td>097293751X</td>\n",
       "      <td>R. Garrelts</td>\n",
       "      <td>[2, 2]</td>\n",
       "      <td>2</td>\n",
       "      <td>2</td>\n",
       "      <td>My wife and I have a six month old baby boy an...</td>\n",
       "      <td>3</td>\n",
       "      <td>Expensive and Somewhat Limited Format</td>\n",
       "      <td>1381968000</td>\n",
       "      <td>10 17, 2013</td>\n",
       "      <td>0</td>\n",
       "      <td>0</td>\n",
       "      <td>2959</td>\n",
       "      <td>505</td>\n",
       "      <td>9</td>\n",
       "      <td>4.0</td>\n",
       "      <td>1.0</td>\n",
       "      <td>1</td>\n",
       "    </tr>\n",
       "    <tr>\n",
       "      <th>4</th>\n",
       "      <td>A21I33AWNOWMK8</td>\n",
       "      <td>9729375011</td>\n",
       "      <td>EmilyS</td>\n",
       "      <td>[1, 2]</td>\n",
       "      <td>1</td>\n",
       "      <td>2</td>\n",
       "      <td>I have used this book since my son was born.  ...</td>\n",
       "      <td>5</td>\n",
       "      <td>Great product!</td>\n",
       "      <td>1364256000</td>\n",
       "      <td>03 26, 2013</td>\n",
       "      <td>0</td>\n",
       "      <td>0</td>\n",
       "      <td>595</td>\n",
       "      <td>117</td>\n",
       "      <td>0</td>\n",
       "      <td>4.5</td>\n",
       "      <td>0.5</td>\n",
       "      <td>0</td>\n",
       "    </tr>\n",
       "  </tbody>\n",
       "</table>\n",
       "</div>"
      ],
      "text/plain": [
       "       reviewerID        asin        reviewerName  helpful  helpful_num  \\\n",
       "0  A3NMPMELAZC8ZY  097293751X               Jakell  [3, 3]            3   \n",
       "1  A3O4ATU0ENBKTU  097293751X                 MAPN  [1, 1]            1   \n",
       "2  A2SYNL4YX73KNY  097293751X  R. Davidson \"Jrdpa\"  [2, 2]            2   \n",
       "3  A2Q2A6JKY95RTP  097293751X          R. Garrelts  [2, 2]            2   \n",
       "4  A21I33AWNOWMK8  9729375011               EmilyS  [1, 2]            1   \n",
       "\n",
       "   helpful_den                                         reviewText  overall  \\\n",
       "0            3  This book is perfect!  I'm a first time new mo...        5   \n",
       "1            1  I use this so that our babysitter (grandma) ca...        5   \n",
       "2            2  I like this log, but think it would work bette...        3   \n",
       "3            2  My wife and I have a six month old baby boy an...        3   \n",
       "4            2  I have used this book since my son was born.  ...        5   \n",
       "\n",
       "                                         summary  unixReviewTime   reviewTime  \\\n",
       "0                             Great for newborns      1359244800  01 27, 2013   \n",
       "1  Compact and Easy way to record the milestones      1361836800  02 26, 2013   \n",
       "2                          Needs clearer AM & PM      1369008000  05 20, 2013   \n",
       "3          Expensive and Somewhat Limited Format      1381968000  10 17, 2013   \n",
       "4                                 Great product!      1364256000  03 26, 2013   \n",
       "\n",
       "   exclamationcount  questioncount  charcount  wordcount  capcount  avgrating  \\\n",
       "0                 1              0        250         46         0        4.0   \n",
       "1                 0              0        734        148         0        4.0   \n",
       "2                 0              0        288         59         2        4.0   \n",
       "3                 0              0       2959        505         9        4.0   \n",
       "4                 0              0        595        117         0        4.5   \n",
       "\n",
       "   diffrating  ishelpful  \n",
       "0         1.0          1  \n",
       "1         1.0          1  \n",
       "2         1.0          1  \n",
       "3         1.0          1  \n",
       "4         0.5          0  "
      ]
     },
     "execution_count": 5,
     "metadata": {},
     "output_type": "execute_result"
    }
   ],
   "source": [
    "df = pd.read_csv('data/reviews_Baby_5_final_dataset.csv')\n",
    "df.head()"
   ]
  },
  {
   "cell_type": "code",
   "execution_count": 6,
   "metadata": {},
   "outputs": [
    {
     "name": "stdout",
     "output_type": "stream",
     "text": [
      "Dataset has 56950 rows and 19 columns\n"
     ]
    }
   ],
   "source": [
    "print(f'Dataset has {df.shape[0]} rows and {df.shape[1]} columns')"
   ]
  },
  {
   "cell_type": "code",
   "execution_count": 7,
   "metadata": {},
   "outputs": [
    {
     "data": {
      "text/html": [
       "<div>\n",
       "<style scoped>\n",
       "    .dataframe tbody tr th:only-of-type {\n",
       "        vertical-align: middle;\n",
       "    }\n",
       "\n",
       "    .dataframe tbody tr th {\n",
       "        vertical-align: top;\n",
       "    }\n",
       "\n",
       "    .dataframe thead th {\n",
       "        text-align: right;\n",
       "    }\n",
       "</style>\n",
       "<table border=\"1\" class=\"dataframe\">\n",
       "  <thead>\n",
       "    <tr style=\"text-align: right;\">\n",
       "      <th></th>\n",
       "      <th>reviewText</th>\n",
       "    </tr>\n",
       "  </thead>\n",
       "  <tbody>\n",
       "    <tr>\n",
       "      <th>0</th>\n",
       "      <td>This book is perfect!  I'm a first time new mo...</td>\n",
       "    </tr>\n",
       "    <tr>\n",
       "      <th>1</th>\n",
       "      <td>I use this so that our babysitter (grandma) ca...</td>\n",
       "    </tr>\n",
       "    <tr>\n",
       "      <th>2</th>\n",
       "      <td>I like this log, but think it would work bette...</td>\n",
       "    </tr>\n",
       "    <tr>\n",
       "      <th>3</th>\n",
       "      <td>My wife and I have a six month old baby boy an...</td>\n",
       "    </tr>\n",
       "    <tr>\n",
       "      <th>4</th>\n",
       "      <td>I have used this book since my son was born.  ...</td>\n",
       "    </tr>\n",
       "  </tbody>\n",
       "</table>\n",
       "</div>"
      ],
      "text/plain": [
       "                                          reviewText\n",
       "0  This book is perfect!  I'm a first time new mo...\n",
       "1  I use this so that our babysitter (grandma) ca...\n",
       "2  I like this log, but think it would work bette...\n",
       "3  My wife and I have a six month old baby boy an...\n",
       "4  I have used this book since my son was born.  ..."
      ]
     },
     "execution_count": 7,
     "metadata": {},
     "output_type": "execute_result"
    }
   ],
   "source": [
    "df = df[['reviewText']]\n",
    "df.head()"
   ]
  },
  {
   "cell_type": "code",
   "execution_count": 11,
   "metadata": {},
   "outputs": [
    {
     "data": {
      "text/plain": [
       "\"This book is perfect!  I'm a first time new mom, and this book made it so easy to keep track of feedings, diaper changes, sleep.  Definitely would recommend this for new moms.  Plus it's small enough that I throw in the diaper back for doctor visits.\""
      ]
     },
     "execution_count": 11,
     "metadata": {},
     "output_type": "execute_result"
    }
   ],
   "source": [
    "df.iloc[0].values[0]"
   ]
  },
  {
   "cell_type": "code",
   "execution_count": 12,
   "metadata": {},
   "outputs": [
    {
     "data": {
      "text/html": [
       "<div>\n",
       "<style scoped>\n",
       "    .dataframe tbody tr th:only-of-type {\n",
       "        vertical-align: middle;\n",
       "    }\n",
       "\n",
       "    .dataframe tbody tr th {\n",
       "        vertical-align: top;\n",
       "    }\n",
       "\n",
       "    .dataframe thead th {\n",
       "        text-align: right;\n",
       "    }\n",
       "</style>\n",
       "<table border=\"1\" class=\"dataframe\">\n",
       "  <thead>\n",
       "    <tr style=\"text-align: right;\">\n",
       "      <th></th>\n",
       "      <th>reviewText</th>\n",
       "      <th>word_tokens</th>\n",
       "    </tr>\n",
       "  </thead>\n",
       "  <tbody>\n",
       "    <tr>\n",
       "      <th>0</th>\n",
       "      <td>This book is perfect!  I'm a first time new mo...</td>\n",
       "      <td>[This, book, is, perfect, !, I, 'm, a, first, ...</td>\n",
       "    </tr>\n",
       "    <tr>\n",
       "      <th>1</th>\n",
       "      <td>I use this so that our babysitter (grandma) ca...</td>\n",
       "      <td>[I, use, this, so, that, our, babysitter, (, g...</td>\n",
       "    </tr>\n",
       "    <tr>\n",
       "      <th>2</th>\n",
       "      <td>I like this log, but think it would work bette...</td>\n",
       "      <td>[I, like, this, log, ,, but, think, it, would,...</td>\n",
       "    </tr>\n",
       "    <tr>\n",
       "      <th>3</th>\n",
       "      <td>My wife and I have a six month old baby boy an...</td>\n",
       "      <td>[My, wife, and, I, have, a, six, month, old, b...</td>\n",
       "    </tr>\n",
       "    <tr>\n",
       "      <th>4</th>\n",
       "      <td>I have used this book since my son was born.  ...</td>\n",
       "      <td>[I, have, used, this, book, since, my, son, wa...</td>\n",
       "    </tr>\n",
       "  </tbody>\n",
       "</table>\n",
       "</div>"
      ],
      "text/plain": [
       "                                          reviewText  \\\n",
       "0  This book is perfect!  I'm a first time new mo...   \n",
       "1  I use this so that our babysitter (grandma) ca...   \n",
       "2  I like this log, but think it would work bette...   \n",
       "3  My wife and I have a six month old baby boy an...   \n",
       "4  I have used this book since my son was born.  ...   \n",
       "\n",
       "                                         word_tokens  \n",
       "0  [This, book, is, perfect, !, I, 'm, a, first, ...  \n",
       "1  [I, use, this, so, that, our, babysitter, (, g...  \n",
       "2  [I, like, this, log, ,, but, think, it, would,...  \n",
       "3  [My, wife, and, I, have, a, six, month, old, b...  \n",
       "4  [I, have, used, this, book, since, my, son, wa...  "
      ]
     },
     "execution_count": 12,
     "metadata": {},
     "output_type": "execute_result"
    }
   ],
   "source": [
    "df['word_tokens'] = df['reviewText'].apply(word_tokenize)\n",
    "df.head()"
   ]
  },
  {
   "cell_type": "code",
   "execution_count": 14,
   "metadata": {},
   "outputs": [
    {
     "data": {
      "text/plain": [
       "['This',\n",
       " 'book',\n",
       " 'is',\n",
       " 'perfect',\n",
       " '!',\n",
       " 'I',\n",
       " \"'m\",\n",
       " 'a',\n",
       " 'first',\n",
       " 'time',\n",
       " 'new',\n",
       " 'mom',\n",
       " ',',\n",
       " 'and',\n",
       " 'this',\n",
       " 'book',\n",
       " 'made',\n",
       " 'it',\n",
       " 'so',\n",
       " 'easy',\n",
       " 'to',\n",
       " 'keep',\n",
       " 'track',\n",
       " 'of',\n",
       " 'feedings',\n",
       " ',',\n",
       " 'diaper',\n",
       " 'changes',\n",
       " ',',\n",
       " 'sleep',\n",
       " '.',\n",
       " 'Definitely',\n",
       " 'would',\n",
       " 'recommend',\n",
       " 'this',\n",
       " 'for',\n",
       " 'new',\n",
       " 'moms',\n",
       " '.',\n",
       " 'Plus',\n",
       " 'it',\n",
       " \"'s\",\n",
       " 'small',\n",
       " 'enough',\n",
       " 'that',\n",
       " 'I',\n",
       " 'throw',\n",
       " 'in',\n",
       " 'the',\n",
       " 'diaper',\n",
       " 'back',\n",
       " 'for',\n",
       " 'doctor',\n",
       " 'visits',\n",
       " '.']"
      ]
     },
     "execution_count": 14,
     "metadata": {},
     "output_type": "execute_result"
    }
   ],
   "source": [
    "df['word_tokens'].iloc[0]"
   ]
  },
  {
   "cell_type": "code",
   "execution_count": 15,
   "metadata": {},
   "outputs": [],
   "source": [
    "from nltk.probability import FreqDist\n",
    "df['freq_dist'] = df['word_tokens'].apply(FreqDist)"
   ]
  },
  {
   "cell_type": "code",
   "execution_count": 16,
   "metadata": {},
   "outputs": [
    {
     "data": {
      "text/plain": [
       "FreqDist({',': 3, '.': 3, 'book': 2, 'I': 2, 'new': 2, 'this': 2, 'it': 2, 'diaper': 2, 'for': 2, 'This': 1, ...})"
      ]
     },
     "execution_count": 16,
     "metadata": {},
     "output_type": "execute_result"
    }
   ],
   "source": [
    "df['freq_dist'].iloc[0]"
   ]
  },
  {
   "cell_type": "code",
   "execution_count": 17,
   "metadata": {},
   "outputs": [
    {
     "data": {
      "text/html": [
       "<div>\n",
       "<style scoped>\n",
       "    .dataframe tbody tr th:only-of-type {\n",
       "        vertical-align: middle;\n",
       "    }\n",
       "\n",
       "    .dataframe tbody tr th {\n",
       "        vertical-align: top;\n",
       "    }\n",
       "\n",
       "    .dataframe thead th {\n",
       "        text-align: right;\n",
       "    }\n",
       "</style>\n",
       "<table border=\"1\" class=\"dataframe\">\n",
       "  <thead>\n",
       "    <tr style=\"text-align: right;\">\n",
       "      <th></th>\n",
       "      <th>reviewText</th>\n",
       "      <th>word_tokens</th>\n",
       "      <th>freq_dist</th>\n",
       "      <th>most_common</th>\n",
       "    </tr>\n",
       "  </thead>\n",
       "  <tbody>\n",
       "    <tr>\n",
       "      <th>0</th>\n",
       "      <td>This book is perfect!  I'm a first time new mo...</td>\n",
       "      <td>[This, book, is, perfect, !, I, 'm, a, first, ...</td>\n",
       "      <td>{'This': 1, 'book': 2, 'is': 1, 'perfect': 1, ...</td>\n",
       "      <td>[(,, 3), (., 3), (book, 2), (I, 2), (new, 2), ...</td>\n",
       "    </tr>\n",
       "    <tr>\n",
       "      <th>1</th>\n",
       "      <td>I use this so that our babysitter (grandma) ca...</td>\n",
       "      <td>[I, use, this, so, that, our, babysitter, (, g...</td>\n",
       "      <td>{'I': 4, 'use': 1, 'this': 3, 'so': 2, 'that':...</td>\n",
       "      <td>[(., 8), (we, 8), (the, 6), (a, 5), (I, 4), (a...</td>\n",
       "    </tr>\n",
       "    <tr>\n",
       "      <th>2</th>\n",
       "      <td>I like this log, but think it would work bette...</td>\n",
       "      <td>[I, like, this, log, ,, but, think, it, would,...</td>\n",
       "      <td>{'I': 1, 'like': 1, 'this': 1, 'log': 1, ',': ...</td>\n",
       "      <td>[(., 3), (hours, 2), (a, 2), (in, 2), (the, 2)...</td>\n",
       "    </tr>\n",
       "    <tr>\n",
       "      <th>3</th>\n",
       "      <td>My wife and I have a six month old baby boy an...</td>\n",
       "      <td>[My, wife, and, I, have, a, six, month, old, b...</td>\n",
       "      <td>{'My': 1, 'wife': 2, 'and': 15, 'I': 5, 'have'...</td>\n",
       "      <td>[(--, 40), (a, 20), (the, 19), (., 16), (and, ...</td>\n",
       "    </tr>\n",
       "    <tr>\n",
       "      <th>4</th>\n",
       "      <td>I have used this book since my son was born.  ...</td>\n",
       "      <td>[I, have, used, this, book, since, my, son, wa...</td>\n",
       "      <td>{'I': 5, 'have': 1, 'used': 1, 'this': 3, 'boo...</td>\n",
       "      <td>[(., 7), (I, 5), (to, 5), (his, 5), (and, 4), ...</td>\n",
       "    </tr>\n",
       "  </tbody>\n",
       "</table>\n",
       "</div>"
      ],
      "text/plain": [
       "                                          reviewText  \\\n",
       "0  This book is perfect!  I'm a first time new mo...   \n",
       "1  I use this so that our babysitter (grandma) ca...   \n",
       "2  I like this log, but think it would work bette...   \n",
       "3  My wife and I have a six month old baby boy an...   \n",
       "4  I have used this book since my son was born.  ...   \n",
       "\n",
       "                                         word_tokens  \\\n",
       "0  [This, book, is, perfect, !, I, 'm, a, first, ...   \n",
       "1  [I, use, this, so, that, our, babysitter, (, g...   \n",
       "2  [I, like, this, log, ,, but, think, it, would,...   \n",
       "3  [My, wife, and, I, have, a, six, month, old, b...   \n",
       "4  [I, have, used, this, book, since, my, son, wa...   \n",
       "\n",
       "                                           freq_dist  \\\n",
       "0  {'This': 1, 'book': 2, 'is': 1, 'perfect': 1, ...   \n",
       "1  {'I': 4, 'use': 1, 'this': 3, 'so': 2, 'that':...   \n",
       "2  {'I': 1, 'like': 1, 'this': 1, 'log': 1, ',': ...   \n",
       "3  {'My': 1, 'wife': 2, 'and': 15, 'I': 5, 'have'...   \n",
       "4  {'I': 5, 'have': 1, 'used': 1, 'this': 3, 'boo...   \n",
       "\n",
       "                                         most_common  \n",
       "0  [(,, 3), (., 3), (book, 2), (I, 2), (new, 2), ...  \n",
       "1  [(., 8), (we, 8), (the, 6), (a, 5), (I, 4), (a...  \n",
       "2  [(., 3), (hours, 2), (a, 2), (in, 2), (the, 2)...  \n",
       "3  [(--, 40), (a, 20), (the, 19), (., 16), (and, ...  \n",
       "4  [(., 7), (I, 5), (to, 5), (his, 5), (and, 4), ...  "
      ]
     },
     "execution_count": 17,
     "metadata": {},
     "output_type": "execute_result"
    }
   ],
   "source": [
    "df['most_common'] = df['freq_dist'].apply(lambda x: x.most_common(15))\n",
    "df.head()"
   ]
  },
  {
   "cell_type": "code",
   "execution_count": 18,
   "metadata": {},
   "outputs": [
    {
     "data": {
      "image/png": "[encoded data removed]",
      "text/plain": [
       "<Figure size 1296x432 with 1 Axes>"
      ]
     },
     "metadata": {
      "needs_background": "light"
     },
     "output_type": "display_data"
    }
   ],
   "source": [
    "plt.figure(figsize=(18, 6))\n",
    "df['freq_dist'].iloc[0].plot(cumulative=False)\n",
    "plt.show();"
   ]
  },
  {
   "cell_type": "code",
   "execution_count": 19,
   "metadata": {},
   "outputs": [
    {
     "data": {
      "image/png": "[encoded data removed]",
      "text/plain": [
       "<Figure size 1296x432 with 1 Axes>"
      ]
     },
     "metadata": {
      "needs_background": "light"
     },
     "output_type": "display_data"
    }
   ],
   "source": [
    "plt.figure(figsize=(18, 6))\n",
    "df['freq_dist'].iloc[0].plot(cumulative=True)\n",
    "plt.show();"
   ]
  },
  {
   "cell_type": "code",
   "execution_count": 20,
   "metadata": {},
   "outputs": [],
   "source": [
    "import re, string, unicodedata\n",
    "import inflect\n",
    "\n",
    "from nltk.corpus import stopwords\n",
    "from nltk.stem import WordNetLemmatizer"
   ]
  },
  {
   "cell_type": "code",
   "execution_count": 21,
   "metadata": {},
   "outputs": [
    {
     "data": {
      "text/plain": [
       "\"this book is perfect!  i'm a first time new mom, and this book made it so easy to keep track of feedings, diaper changes, sleep.  definitely would recommend this for new moms.  plus it's small enough that i throw in the diaper back for doctor visits.\""
      ]
     },
     "execution_count": 21,
     "metadata": {},
     "output_type": "execute_result"
    }
   ],
   "source": [
    "df['text_lower'] = df['reviewText'].apply(lambda x: x.lower())\n",
    "df['text_lower'].iloc[0]"
   ]
  },
  {
   "cell_type": "code",
   "execution_count": 22,
   "metadata": {},
   "outputs": [],
   "source": [
    "def remove_punctuation(text):\n",
    "    text_nopunct = ''.join(char for char in text if char not in string.punctuation)\n",
    "    return text_nopunct"
   ]
  },
  {
   "cell_type": "code",
   "execution_count": 23,
   "metadata": {},
   "outputs": [
    {
     "data": {
      "text/plain": [
       "'this book is perfect  im a first time new mom and this book made it so easy to keep track of feedings diaper changes sleep  definitely would recommend this for new moms  plus its small enough that i throw in the diaper back for doctor visits'"
      ]
     },
     "execution_count": 23,
     "metadata": {},
     "output_type": "execute_result"
    }
   ],
   "source": [
    "df['text_nopunct'] = df['text_lower'].apply(remove_punctuation)\n",
    "df['text_nopunct'].iloc[0]"
   ]
  },
  {
   "cell_type": "code",
   "execution_count": 25,
   "metadata": {},
   "outputs": [],
   "source": [
    "# inf_engine = inflect.engine()\n",
    "# def replace_numbers(text):\n",
    "#     words = text.split()\n",
    "#     final_list = []\n",
    "#     for word in words:\n",
    "#         if word.isdigit():\n",
    "#             final_list.append(inf_engine.number_to_words(word))\n",
    "#         else:\n",
    "#             final_list.append(word)\n",
    "#     return ' '.join(final_list)\n",
    "\n",
    "# df['text_no_digit'] = df['text_nopunct'].apply(replace_numbers)\n",
    "# df['text_no_digit'].iloc[0]"
   ]
  },
  {
   "cell_type": "code",
   "execution_count": 26,
   "metadata": {},
   "outputs": [
    {
     "data": {
      "text/plain": [
       "'this book be perfect im a first time new mom and this book make it so easy to keep track of feed diaper change sleep definitely would recommend this for new moms plus its small enough that i throw in the diaper back for doctor visit'"
      ]
     },
     "execution_count": 26,
     "metadata": {},
     "output_type": "execute_result"
    }
   ],
   "source": [
    "def lemmatize_verbs(text):\n",
    "    text_verbs = [WordNetLemmatizer().lemmatize(word, pos='v') for word in text.split()]\n",
    "    return ' '.join(text_verbs)\n",
    "\n",
    "df['text_lemmatized'] = df['text_nopunct'].apply(lemmatize_verbs)\n",
    "df['text_lemmatized'].iloc[0]"
   ]
  },
  {
   "cell_type": "code",
   "execution_count": 27,
   "metadata": {},
   "outputs": [
    {
     "data": {
      "text/plain": [
       "CountVectorizer()"
      ]
     },
     "execution_count": 27,
     "metadata": {},
     "output_type": "execute_result"
    }
   ],
   "source": [
    "from sklearn.feature_extraction.text import CountVectorizer\n",
    "\n",
    "count_vectorizer = CountVectorizer()\n",
    "count_vectorizer.fit(df['text_lemmatized'])"
   ]
  },
  {
   "cell_type": "code",
   "execution_count": 31,
   "metadata": {},
   "outputs": [
    {
     "data": {
      "text/plain": [
       "[('this', 88856),\n",
       " ('book', 15228),\n",
       " ('be', 12968),\n",
       " ('perfect', 65655),\n",
       " ('im', 44883),\n",
       " ('first', 35460),\n",
       " ('time', 89637),\n",
       " ('new', 58700),\n",
       " ('mom', 56159),\n",
       " ('and', 8397)]"
      ]
     },
     "execution_count": 31,
     "metadata": {},
     "output_type": "execute_result"
    }
   ],
   "source": [
    "list(count_vectorizer.vocabulary_.items())[:10]"
   ]
  },
  {
   "cell_type": "code",
   "execution_count": 32,
   "metadata": {},
   "outputs": [
    {
     "name": "stdout",
     "output_type": "stream",
     "text": [
      "There are 100979 unique words in the dataset\n"
     ]
    }
   ],
   "source": [
    "print(f'There are {len(count_vectorizer.vocabulary_)} unique words in the dataset')"
   ]
  },
  {
   "cell_type": "code",
   "execution_count": 35,
   "metadata": {},
   "outputs": [
    {
     "data": {
      "text/plain": [
       "(56950, 100979)"
      ]
     },
     "execution_count": 35,
     "metadata": {},
     "output_type": "execute_result"
    }
   ],
   "source": [
    "bag_of_words = count_vectorizer.transform(df['text_lemmatized'])\n",
    "bag_of_words.shape"
   ]
  },
  {
   "cell_type": "code",
   "execution_count": 39,
   "metadata": {},
   "outputs": [
    {
     "data": {
      "text/plain": [
       "['i', 'me', 'my', 'myself', 'we', 'our', 'ours', 'ourselves', 'you', \"you're\"]"
      ]
     },
     "execution_count": 39,
     "metadata": {},
     "output_type": "execute_result"
    }
   ],
   "source": [
    "stop_words = stopwords.words('english')\n",
    "stop_words[:10]"
   ]
  },
  {
   "cell_type": "code",
   "execution_count": 40,
   "metadata": {},
   "outputs": [],
   "source": [
    "count_vectorizer = CountVectorizer(stop_words=stop_words)\n",
    "count_vectorizer.fit(df['text_lemmatized'])\n",
    "bag_of_words = count_vectorizer.transform(df['text_lemmatized'])"
   ]
  },
  {
   "cell_type": "code",
   "execution_count": 41,
   "metadata": {},
   "outputs": [
    {
     "data": {
      "text/plain": [
       "(56950, 100861)"
      ]
     },
     "execution_count": 41,
     "metadata": {},
     "output_type": "execute_result"
    }
   ],
   "source": [
    "bag_of_words.shape"
   ]
  },
  {
   "cell_type": "code",
   "execution_count": 42,
   "metadata": {},
   "outputs": [],
   "source": [
    "from sklearn.feature_extraction.text import TfidfVectorizer"
   ]
  },
  {
   "cell_type": "code",
   "execution_count": 43,
   "metadata": {},
   "outputs": [
    {
     "data": {
      "text/plain": [
       "TfidfVectorizer(stop_words=['i', 'me', 'my', 'myself', 'we', 'our', 'ours',\n",
       "                            'ourselves', 'you', \"you're\", \"you've\", \"you'll\",\n",
       "                            \"you'd\", 'your', 'yours', 'yourself', 'yourselves',\n",
       "                            'he', 'him', 'his', 'himself', 'she', \"she's\",\n",
       "                            'her', 'hers', 'herself', 'it', \"it's\", 'its',\n",
       "                            'itself', ...])"
      ]
     },
     "execution_count": 43,
     "metadata": {},
     "output_type": "execute_result"
    }
   ],
   "source": [
    "tfidf_vectorizer = TfidfVectorizer(stop_words=stop_words)\n",
    "tfidf_vectorizer.fit(df['text_lemmatized'])"
   ]
  },
  {
   "cell_type": "code",
   "execution_count": 46,
   "metadata": {},
   "outputs": [
    {
     "data": {
      "text/html": [
       "<div>\n",
       "<style scoped>\n",
       "    .dataframe tbody tr th:only-of-type {\n",
       "        vertical-align: middle;\n",
       "    }\n",
       "\n",
       "    .dataframe tbody tr th {\n",
       "        vertical-align: top;\n",
       "    }\n",
       "\n",
       "    .dataframe thead th {\n",
       "        text-align: right;\n",
       "    }\n",
       "</style>\n",
       "<table border=\"1\" class=\"dataframe\">\n",
       "  <thead>\n",
       "    <tr style=\"text-align: right;\">\n",
       "      <th></th>\n",
       "      <th>idf_score</th>\n",
       "    </tr>\n",
       "  </thead>\n",
       "  <tbody>\n",
       "    <tr>\n",
       "      <th>00</th>\n",
       "      <td>11.256799</td>\n",
       "    </tr>\n",
       "    <tr>\n",
       "      <th>offtheseat</th>\n",
       "      <td>11.256799</td>\n",
       "    </tr>\n",
       "    <tr>\n",
       "      <th>offproseasy</th>\n",
       "      <td>11.256799</td>\n",
       "    </tr>\n",
       "    <tr>\n",
       "      <th>offprice</th>\n",
       "      <td>11.256799</td>\n",
       "    </tr>\n",
       "    <tr>\n",
       "      <th>offpretty</th>\n",
       "      <td>11.256799</td>\n",
       "    </tr>\n",
       "    <tr>\n",
       "      <th>offplenty</th>\n",
       "      <td>11.256799</td>\n",
       "    </tr>\n",
       "    <tr>\n",
       "      <th>offpicture</th>\n",
       "      <td>11.256799</td>\n",
       "    </tr>\n",
       "    <tr>\n",
       "      <th>offperhaps</th>\n",
       "      <td>11.256799</td>\n",
       "    </tr>\n",
       "    <tr>\n",
       "      <th>offpan</th>\n",
       "      <td>11.256799</td>\n",
       "    </tr>\n",
       "    <tr>\n",
       "      <th>offout</th>\n",
       "      <td>11.256799</td>\n",
       "    </tr>\n",
       "  </tbody>\n",
       "</table>\n",
       "</div>"
      ],
      "text/plain": [
       "             idf_score\n",
       "00           11.256799\n",
       "offtheseat   11.256799\n",
       "offproseasy  11.256799\n",
       "offprice     11.256799\n",
       "offpretty    11.256799\n",
       "offplenty    11.256799\n",
       "offpicture   11.256799\n",
       "offperhaps   11.256799\n",
       "offpan       11.256799\n",
       "offout       11.256799"
      ]
     },
     "execution_count": 46,
     "metadata": {},
     "output_type": "execute_result"
    }
   ],
   "source": [
    "df_tfidf = pd.DataFrame(tfidf_vectorizer.idf_,\n",
    "                            index=tfidf_vectorizer.get_feature_names_out(),\n",
    "                            columns=['idf_score'])\n",
    "df_tfidf.sort_values('idf_score', ascending=False).head(10)"
   ]
  },
  {
   "cell_type": "code",
   "execution_count": 47,
   "metadata": {},
   "outputs": [
    {
     "data": {
      "text/plain": [
       "(56950, 100861)"
      ]
     },
     "execution_count": 47,
     "metadata": {},
     "output_type": "execute_result"
    }
   ],
   "source": [
    "tfidf_vectors = tfidf_vectorizer.transform(df['text_lemmatized'])\n",
    "tfidf_vectors.shape"
   ]
  },
  {
   "cell_type": "code",
   "execution_count": null,
   "metadata": {},
   "outputs": [],
   "source": []
  }
 ],
 "metadata": {
  "interpreter": {
   "hash": "a5a8803176ba603454a120d2af569b11c3f41e6e81f2a81589e795246afd0d6d"
  },
  "kernelspec": {
   "display_name": "Python 3.7.6 64-bit ('base': conda)",
   "language": "python",
   "name": "python3"
  },
  "language_info": {
   "codemirror_mode": {
    "name": "ipython",
    "version": 3
   },
   "file_extension": ".py",
   "mimetype": "text/x-python",
   "name": "python",
   "nbconvert_exporter": "python",
   "pygments_lexer": "ipython3",
   "version": "3.7.6"
  },
  "orig_nbformat": 4
 },
 "nbformat": 4,
 "nbformat_minor": 2
}
