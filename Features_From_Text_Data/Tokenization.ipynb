{
 "cells": [
  {
   "cell_type": "code",
   "execution_count": 1,
   "metadata": {},
   "outputs": [],
   "source": [
    "import numpy as np\n",
    "import nltk"
   ]
  },
  {
   "cell_type": "code",
   "execution_count": 2,
   "metadata": {},
   "outputs": [
    {
     "name": "stderr",
     "output_type": "stream",
     "text": [
      "[nltk_data] Downloading package punkt to\n",
      "[nltk_data]     C:\\Users\\Safiuddin\\AppData\\Roaming\\nltk_data...\n",
      "[nltk_data]   Package punkt is already up-to-date!\n"
     ]
    },
    {
     "data": {
      "text/plain": [
       "True"
      ]
     },
     "execution_count": 2,
     "metadata": {},
     "output_type": "execute_result"
    }
   ],
   "source": [
    "nltk.download('punkt')"
   ]
  },
  {
   "cell_type": "code",
   "execution_count": 3,
   "metadata": {},
   "outputs": [],
   "source": [
    "from nltk.tokenize import word_tokenize, sent_tokenize"
   ]
  },
  {
   "cell_type": "code",
   "execution_count": 5,
   "metadata": {},
   "outputs": [],
   "source": [
    "sent_tokens = sent_tokenize('The quick brown fox jumps over the lazy dog. The dog was lazy. The dog was very lazy.')"
   ]
  },
  {
   "cell_type": "code",
   "execution_count": 6,
   "metadata": {},
   "outputs": [
    {
     "data": {
      "text/plain": [
       "['The quick brown fox jumps over the lazy dog.',\n",
       " 'The dog was lazy.',\n",
       " 'The dog was very lazy.']"
      ]
     },
     "execution_count": 6,
     "metadata": {},
     "output_type": "execute_result"
    }
   ],
   "source": [
    "sent_tokens"
   ]
  },
  {
   "cell_type": "code",
   "execution_count": 7,
   "metadata": {},
   "outputs": [
    {
     "data": {
      "text/plain": [
       "['The',\n",
       " 'quick',\n",
       " 'brown',\n",
       " 'fox',\n",
       " 'jumps',\n",
       " 'over',\n",
       " 'the',\n",
       " 'lazy',\n",
       " 'dog',\n",
       " '.',\n",
       " 'The',\n",
       " 'dog',\n",
       " 'was',\n",
       " 'lazy',\n",
       " '.',\n",
       " 'The',\n",
       " 'dog',\n",
       " 'was',\n",
       " 'very',\n",
       " 'lazy',\n",
       " '.']"
      ]
     },
     "execution_count": 7,
     "metadata": {},
     "output_type": "execute_result"
    }
   ],
   "source": [
    "word_tokens = word_tokenize('The quick brown fox jumps over the lazy dog. The dog was lazy. The dog was very lazy.')\n",
    "word_tokens"
   ]
  },
  {
   "cell_type": "code",
   "execution_count": 8,
   "metadata": {},
   "outputs": [
    {
     "name": "stdout",
     "output_type": "stream",
     "text": [
      "Type of tokens: <class 'list'>\n"
     ]
    }
   ],
   "source": [
    "print(f'Type of tokens: {type(sent_tokens)}')"
   ]
  },
  {
   "cell_type": "code",
   "execution_count": 9,
   "metadata": {},
   "outputs": [],
   "source": [
    "from nltk.tokenize.punkt import PunktSentenceTokenizer"
   ]
  },
  {
   "cell_type": "code",
   "execution_count": 10,
   "metadata": {},
   "outputs": [],
   "source": [
    "pst = PunktSentenceTokenizer()"
   ]
  },
  {
   "cell_type": "code",
   "execution_count": 11,
   "metadata": {},
   "outputs": [],
   "source": [
    "text = 'A bird in hand is worth two in the bush. ' + \\\n",
    "        \"Good things come to those who wait. \" + \\\n",
    "        \"These watches codt $1500! \" + \\\n",
    "        \"The ball is in your court. \" + \\\n",
    "        \"Mr. Smith bought a car for $3,500. \" + \\\n",
    "        \"Doogie Howser M.D\""
   ]
  },
  {
   "cell_type": "code",
   "execution_count": 12,
   "metadata": {},
   "outputs": [
    {
     "data": {
      "text/plain": [
       "['A bird in hand is worth two in the bush.',\n",
       " 'Good things come to those who wait.',\n",
       " 'These watches codt $1500!',\n",
       " 'The ball is in your court.',\n",
       " 'Mr.',\n",
       " 'Smith bought a car for $3,500.',\n",
       " 'Doogie Howser M.D']"
      ]
     },
     "execution_count": 12,
     "metadata": {},
     "output_type": "execute_result"
    }
   ],
   "source": [
    "sent_tokens = pst.tokenize(text)\n",
    "sent_tokens"
   ]
  },
  {
   "cell_type": "code",
   "execution_count": 14,
   "metadata": {},
   "outputs": [
    {
     "data": {
      "text/plain": [
       "[(0, 40), (41, 76), (77, 102), (103, 129), (130, 133), (134, 164), (165, 182)]"
      ]
     },
     "execution_count": 14,
     "metadata": {},
     "output_type": "execute_result"
    }
   ],
   "source": [
    "span_tokens = pst.span_tokenize(text) # Returns a generator of characters (start, end) of each sentence\n",
    "list(span_tokens) "
   ]
  },
  {
   "cell_type": "code",
   "execution_count": 15,
   "metadata": {},
   "outputs": [
    {
     "data": {
      "text/plain": [
       "['A',\n",
       " 'bird',\n",
       " 'in',\n",
       " 'hand',\n",
       " 'is',\n",
       " 'worth',\n",
       " 'two',\n",
       " 'in',\n",
       " 'the',\n",
       " 'bush',\n",
       " '.',\n",
       " 'Good',\n",
       " 'things',\n",
       " 'come',\n",
       " 'to',\n",
       " 'those',\n",
       " 'who',\n",
       " 'wait',\n",
       " '.',\n",
       " 'These',\n",
       " 'watches',\n",
       " 'codt',\n",
       " '$',\n",
       " '1500',\n",
       " '!',\n",
       " 'The',\n",
       " 'ball',\n",
       " 'is',\n",
       " 'in',\n",
       " 'your',\n",
       " 'court',\n",
       " '.',\n",
       " 'Mr.',\n",
       " 'Smith',\n",
       " 'bought',\n",
       " 'a',\n",
       " 'car',\n",
       " 'for',\n",
       " '$',\n",
       " '3,500',\n",
       " '.',\n",
       " 'Doogie',\n",
       " 'Howser',\n",
       " 'M.D']"
      ]
     },
     "execution_count": 15,
     "metadata": {},
     "output_type": "execute_result"
    }
   ],
   "source": [
    "word_tokens = word_tokenize(text)\n",
    "word_tokens"
   ]
  },
  {
   "cell_type": "code",
   "execution_count": 16,
   "metadata": {},
   "outputs": [
    {
     "data": {
      "text/plain": [
       "[['A', 'bird', 'in', 'hand', 'is', 'worth', 'two', 'in', 'the', 'bush', '.'],\n",
       " ['Good', 'things', 'come', 'to', 'those', 'who', 'wait', '.'],\n",
       " ['These', 'watches', 'codt', '$', '1500', '!'],\n",
       " ['The', 'ball', 'is', 'in', 'your', 'court', '.'],\n",
       " ['Mr.'],\n",
       " ['Smith', 'bought', 'a', 'car', 'for', '$', '3,500', '.'],\n",
       " ['Doogie', 'Howser', 'M.D']]"
      ]
     },
     "execution_count": 16,
     "metadata": {},
     "output_type": "execute_result"
    }
   ],
   "source": [
    "sentences = pst.sentences_from_tokens(word_tokens)\n",
    "list(sentences)"
   ]
  },
  {
   "cell_type": "code",
   "execution_count": 17,
   "metadata": {},
   "outputs": [],
   "source": [
    "from nltk.tokenize import WhitespaceTokenizer"
   ]
  },
  {
   "cell_type": "code",
   "execution_count": 18,
   "metadata": {},
   "outputs": [],
   "source": [
    "wt = WhitespaceTokenizer()"
   ]
  },
  {
   "cell_type": "code",
   "execution_count": 19,
   "metadata": {},
   "outputs": [
    {
     "data": {
      "text/plain": [
       "['A',\n",
       " 'bird',\n",
       " 'in',\n",
       " 'hand',\n",
       " 'is',\n",
       " 'worth',\n",
       " 'two',\n",
       " 'in',\n",
       " 'the',\n",
       " 'bush.',\n",
       " 'Good',\n",
       " 'things',\n",
       " 'come',\n",
       " 'to',\n",
       " 'those',\n",
       " 'who',\n",
       " 'wait.',\n",
       " 'These',\n",
       " 'watches',\n",
       " 'codt',\n",
       " '$1500!',\n",
       " 'The',\n",
       " 'ball',\n",
       " 'is',\n",
       " 'in',\n",
       " 'your',\n",
       " 'court.',\n",
       " 'Mr.',\n",
       " 'Smith',\n",
       " 'bought',\n",
       " 'a',\n",
       " 'car',\n",
       " 'for',\n",
       " '$3,500.',\n",
       " 'Doogie',\n",
       " 'Howser',\n",
       " 'M.D']"
      ]
     },
     "execution_count": 19,
     "metadata": {},
     "output_type": "execute_result"
    }
   ],
   "source": [
    "word_tokens = wt.tokenize(text)\n",
    "word_tokens"
   ]
  },
  {
   "cell_type": "code",
   "execution_count": 32,
   "metadata": {},
   "outputs": [],
   "source": [
    "with open('data/dbpedia_csv/readme.txt', 'r') as f:\n",
    "    content = f.read()"
   ]
  },
  {
   "cell_type": "code",
   "execution_count": 33,
   "metadata": {},
   "outputs": [
    {
     "data": {
      "text/plain": [
       "['DBPedia',\n",
       " 'Ontology',\n",
       " 'Classification',\n",
       " 'Dataset',\n",
       " 'Version',\n",
       " '1',\n",
       " ',',\n",
       " 'Updated',\n",
       " '03/28/2015',\n",
       " 'LICENSE',\n",
       " 'The',\n",
       " 'DBpedia',\n",
       " 'datasets',\n",
       " 'are',\n",
       " 'licensed',\n",
       " 'under',\n",
       " 'the',\n",
       " 'terms',\n",
       " 'of',\n",
       " 'the',\n",
       " 'Creative',\n",
       " 'Commons',\n",
       " 'Attribution-ShareAlike',\n",
       " 'License',\n",
       " 'and',\n",
       " 'the',\n",
       " 'GNU',\n",
       " 'Free',\n",
       " 'Documentation',\n",
       " 'License',\n",
       " '.',\n",
       " 'For',\n",
       " 'more',\n",
       " 'information',\n",
       " ',',\n",
       " 'please',\n",
       " 'refer',\n",
       " 'to',\n",
       " 'http',\n",
       " ':',\n",
       " '//dbpedia.org',\n",
       " '.',\n",
       " 'For',\n",
       " 'a',\n",
       " 'recent',\n",
       " 'overview',\n",
       " 'paper',\n",
       " 'about',\n",
       " 'DBpedia',\n",
       " ',',\n",
       " 'please',\n",
       " 'refer',\n",
       " 'to',\n",
       " ':',\n",
       " 'Jens',\n",
       " 'Lehmann',\n",
       " ',',\n",
       " 'Robert',\n",
       " 'Isele',\n",
       " ',',\n",
       " 'Max',\n",
       " 'Jakob',\n",
       " ',',\n",
       " 'Anja',\n",
       " 'Jentzsch',\n",
       " ',',\n",
       " 'Dimitris',\n",
       " 'Kontokostas',\n",
       " ',',\n",
       " 'Pablo',\n",
       " 'N.',\n",
       " 'Mendes',\n",
       " ',',\n",
       " 'Sebastian',\n",
       " 'Hellmann',\n",
       " ',',\n",
       " 'Mohamed',\n",
       " 'Morsey',\n",
       " ',',\n",
       " 'Patrick',\n",
       " 'van',\n",
       " 'Kleef',\n",
       " ',',\n",
       " 'SÃ¶ren',\n",
       " 'Auer',\n",
       " ',',\n",
       " 'Christian',\n",
       " 'Bizer',\n",
       " ':',\n",
       " 'DBpedia',\n",
       " 'â€',\n",
       " '“',\n",
       " 'A',\n",
       " 'Large-scale',\n",
       " ',',\n",
       " 'Multilingual',\n",
       " 'Knowledge',\n",
       " 'Base',\n",
       " 'Extracted',\n",
       " 'from',\n",
       " 'Wikipedia',\n",
       " '.',\n",
       " 'Semantic',\n",
       " 'Web',\n",
       " 'Journal',\n",
       " ',',\n",
       " 'Vol',\n",
       " '.',\n",
       " '6',\n",
       " 'No',\n",
       " '.',\n",
       " '2',\n",
       " ',',\n",
       " 'pp',\n",
       " '167â€',\n",
       " '“',\n",
       " '195',\n",
       " ',',\n",
       " '2015',\n",
       " '.',\n",
       " 'The',\n",
       " 'DBPedia',\n",
       " 'ontology',\n",
       " 'classification',\n",
       " 'dataset',\n",
       " 'is',\n",
       " 'constructed',\n",
       " 'by',\n",
       " 'Xiang',\n",
       " 'Zhang',\n",
       " '(',\n",
       " 'xiang.zhang',\n",
       " '@',\n",
       " 'nyu.edu',\n",
       " ')',\n",
       " ',',\n",
       " 'licensed',\n",
       " 'under',\n",
       " 'the',\n",
       " 'terms',\n",
       " 'of',\n",
       " 'the',\n",
       " 'Creative',\n",
       " 'Commons',\n",
       " 'Attribution-ShareAlike',\n",
       " 'License',\n",
       " 'and',\n",
       " 'the',\n",
       " 'GNU',\n",
       " 'Free',\n",
       " 'Documentation',\n",
       " 'License',\n",
       " '.',\n",
       " 'This',\n",
       " 'dataset',\n",
       " 'was',\n",
       " 'first',\n",
       " 'used',\n",
       " 'as',\n",
       " 'a',\n",
       " 'classification',\n",
       " 'benchmark',\n",
       " 'in',\n",
       " 'the',\n",
       " 'following',\n",
       " 'technical',\n",
       " 'report',\n",
       " ':',\n",
       " 'Xiang',\n",
       " 'Zhang',\n",
       " ',',\n",
       " 'Yann',\n",
       " 'LeCun',\n",
       " ',',\n",
       " 'Text',\n",
       " 'Understanding',\n",
       " 'from',\n",
       " 'Scratch',\n",
       " ',',\n",
       " 'Arxiv',\n",
       " '1502.01710',\n",
       " '.',\n",
       " 'DESCRIPTION',\n",
       " 'The',\n",
       " 'DBpedia',\n",
       " 'ontology',\n",
       " 'classification',\n",
       " 'dataset',\n",
       " 'is',\n",
       " 'constructed',\n",
       " 'by',\n",
       " 'picking',\n",
       " '14',\n",
       " 'non-overlapping',\n",
       " 'classes',\n",
       " 'from',\n",
       " 'DBpedia',\n",
       " '2014',\n",
       " '.',\n",
       " 'They',\n",
       " 'are',\n",
       " 'listed',\n",
       " 'in',\n",
       " 'classes.txt',\n",
       " '.',\n",
       " 'From',\n",
       " 'each',\n",
       " 'of',\n",
       " 'thse',\n",
       " '14',\n",
       " 'ontology',\n",
       " 'classes',\n",
       " ',',\n",
       " 'we',\n",
       " 'randomly',\n",
       " 'choose',\n",
       " '40,000',\n",
       " 'training',\n",
       " 'samples',\n",
       " 'and',\n",
       " '5,000',\n",
       " 'testing',\n",
       " 'samples',\n",
       " '.',\n",
       " 'Therefore',\n",
       " ',',\n",
       " 'the',\n",
       " 'total',\n",
       " 'size',\n",
       " 'of',\n",
       " 'the',\n",
       " 'training',\n",
       " 'dataset',\n",
       " 'is',\n",
       " '560,000',\n",
       " 'and',\n",
       " 'testing',\n",
       " 'dataset',\n",
       " '70,000',\n",
       " '.',\n",
       " 'The',\n",
       " 'files',\n",
       " 'train.csv',\n",
       " 'and',\n",
       " 'test.csv',\n",
       " 'contain',\n",
       " 'all',\n",
       " 'the',\n",
       " 'training',\n",
       " 'samples',\n",
       " 'as',\n",
       " 'comma-sparated',\n",
       " 'values',\n",
       " '.',\n",
       " 'There',\n",
       " 'are',\n",
       " '3',\n",
       " 'columns',\n",
       " 'in',\n",
       " 'them',\n",
       " ',',\n",
       " 'corresponding',\n",
       " 'to',\n",
       " 'class',\n",
       " 'index',\n",
       " '(',\n",
       " '1',\n",
       " 'to',\n",
       " '14',\n",
       " ')',\n",
       " ',',\n",
       " 'title',\n",
       " 'and',\n",
       " 'content',\n",
       " '.',\n",
       " 'The',\n",
       " 'title',\n",
       " 'and',\n",
       " 'content',\n",
       " 'are',\n",
       " 'escaped',\n",
       " 'using',\n",
       " 'double',\n",
       " 'quotes',\n",
       " '(',\n",
       " '``',\n",
       " ')',\n",
       " ',',\n",
       " 'and',\n",
       " 'any',\n",
       " 'internal',\n",
       " 'double',\n",
       " 'quote',\n",
       " 'is',\n",
       " 'escaped',\n",
       " 'by',\n",
       " '2',\n",
       " 'double',\n",
       " 'quotes',\n",
       " '(',\n",
       " '``',\n",
       " \"''\",\n",
       " ')',\n",
       " '.',\n",
       " 'There',\n",
       " 'are',\n",
       " 'no',\n",
       " 'new',\n",
       " 'lines',\n",
       " 'in',\n",
       " 'title',\n",
       " 'or',\n",
       " 'content',\n",
       " '.']"
      ]
     },
     "execution_count": 33,
     "metadata": {},
     "output_type": "execute_result"
    }
   ],
   "source": [
    "word_tokens = word_tokenize(content)\n",
    "word_tokens"
   ]
  },
  {
   "cell_type": "code",
   "execution_count": 34,
   "metadata": {},
   "outputs": [],
   "source": [
    "from nltk.probability import FreqDist"
   ]
  },
  {
   "cell_type": "code",
   "execution_count": 35,
   "metadata": {},
   "outputs": [
    {
     "name": "stdout",
     "output_type": "stream",
     "text": [
      "<FreqDist with 171 samples and 314 outcomes>\n"
     ]
    }
   ],
   "source": [
    "freq_dist = FreqDist(word_tokens)\n",
    "print(freq_dist)"
   ]
  },
  {
   "cell_type": "code",
   "execution_count": 36,
   "metadata": {},
   "outputs": [
    {
     "data": {
      "text/plain": [
       "[(',', 26),\n",
       " ('.', 16),\n",
       " ('the', 10),\n",
       " ('and', 8),\n",
       " ('The', 5),\n",
       " ('DBpedia', 5),\n",
       " ('are', 5),\n",
       " ('dataset', 5),\n",
       " ('of', 4),\n",
       " ('License', 4)]"
      ]
     },
     "execution_count": 36,
     "metadata": {},
     "output_type": "execute_result"
    }
   ],
   "source": [
    "freq_dist.most_common(10)"
   ]
  },
  {
   "cell_type": "code",
   "execution_count": 37,
   "metadata": {},
   "outputs": [
    {
     "data": {
      "text/plain": [
       "0.03184713375796178"
      ]
     },
     "execution_count": 37,
     "metadata": {},
     "output_type": "execute_result"
    }
   ],
   "source": [
    "freq_dist.freq('the') # Count of word divided by total number of words"
   ]
  },
  {
   "cell_type": "code",
   "execution_count": 38,
   "metadata": {},
   "outputs": [],
   "source": [
    "import matplotlib.pyplot as plt"
   ]
  },
  {
   "cell_type": "code",
   "execution_count": 39,
   "metadata": {},
   "outputs": [
    {
     "data": {
      "image/png": "[encoded data removed]",
      "text/plain": [
       "<Figure size 864x576 with 1 Axes>"
      ]
     },
     "metadata": {
      "needs_background": "light"
     },
     "output_type": "display_data"
    }
   ],
   "source": [
    "fig, ax = plt.subplots(figsize=(12, 8))\n",
    "freq_dist.plot(10, cumulative=False)\n",
    "plt.show();"
   ]
  },
  {
   "cell_type": "code",
   "execution_count": 40,
   "metadata": {},
   "outputs": [
    {
     "data": {
      "image/png": "[encoded data removed]",
      "text/plain": [
       "<Figure size 864x576 with 1 Axes>"
      ]
     },
     "metadata": {
      "needs_background": "light"
     },
     "output_type": "display_data"
    }
   ],
   "source": [
    "fig, ax = plt.subplots(figsize=(12, 8))\n",
    "freq_dist.plot(10, cumulative=True)\n",
    "plt.show();"
   ]
  },
  {
   "cell_type": "code",
   "execution_count": 41,
   "metadata": {},
   "outputs": [],
   "source": [
    "content = content.lower()\n",
    "word_tokens = wt.tokenize(content)"
   ]
  },
  {
   "cell_type": "code",
   "execution_count": 42,
   "metadata": {},
   "outputs": [
    {
     "name": "stderr",
     "output_type": "stream",
     "text": [
      "[nltk_data] Downloading package stopwords to\n",
      "[nltk_data]     C:\\Users\\Safiuddin\\AppData\\Roaming\\nltk_data...\n",
      "[nltk_data]   Unzipping corpora\\stopwords.zip.\n"
     ]
    },
    {
     "data": {
      "text/plain": [
       "True"
      ]
     },
     "execution_count": 42,
     "metadata": {},
     "output_type": "execute_result"
    }
   ],
   "source": [
    "nltk.download('stopwords')"
   ]
  },
  {
   "cell_type": "code",
   "execution_count": 43,
   "metadata": {},
   "outputs": [
    {
     "name": "stdout",
     "output_type": "stream",
     "text": [
      "{'again', 'few', \"shouldn't\", 'once', 'further', 'can', 'wouldn', 'to', 'o', 'haven', 'of', 'having', 'some', 'which', 'myself', 'an', 'does', 'did', 'are', 'weren', \"isn't\", \"couldn't\", \"hadn't\", 'very', 'ma', 'aren', 'yourselves', \"should've\", 'have', 'their', 'both', \"shan't\", 'ourselves', 'then', 'didn', 'own', 'm', '.', 'whom', 'until', 's', 'mustn', 'up', 'between', \"that'll\", 'don', 'am', \"haven't\", 'under', 'nor', \"mightn't\", \"wasn't\", 'more', \"you'll\", 'a', \"you'd\", 'here', 'your', 'about', \"doesn't\", 'each', 'hasn', 'ours', 'has', 'himself', 'there', 'me', 'you', 'him', \"you're\", 'shouldn', 'she', 'being', 'do', 'i', \"she's\", 'during', 'than', 'should', 'couldn', 'doesn', 'needn', 'those', \"mustn't\", 't', 'it', 'just', 'while', 'all', 'other', 'we', 'what', \"didn't\", 'same', 'and', 'y', 'been', 'had', 'because', 'how', 'too', 'yours', 'when', 'ain', ',', 'if', 'against', 'but', 'its', 'mightn', 'his', 'won', 'this', 'as', \"hasn't\", 'by', 'd', 'hers', 'so', 'or', 'through', 'above', 'll', 'any', \"won't\", 'these', 'he', 'for', 'after', 'was', 'with', 'isn', \"you've\", 'down', 'before', 'out', 'into', 'where', 'from', \"it's\", 'only', \"don't\", 're', 'shan', 'them', 'itself', 'themselves', 'at', 'most', 'our', 'why', 'will', 'no', \"needn't\", 've', \"wouldn't\", 'below', 'off', 'now', 'they', 'on', 'theirs', \"weren't\", 'her', 'hadn', 'be', 'yourself', 'the', 'wasn', 'who', 'my', 'over', 'such', 'herself', 'were', 'that', 'in', \"aren't\", 'not', 'doing', 'is'}\n"
     ]
    }
   ],
   "source": [
    "from nltk.corpus import stopwords\n",
    "stop_words = set(stopwords.words('english'))\n",
    "stop_words.update(['.', ',', 'the'])\n",
    "print(stop_words)"
   ]
  },
  {
   "cell_type": "code",
   "execution_count": 44,
   "metadata": {},
   "outputs": [],
   "source": [
    "filtered_words = [w for w in word_tokens if not w in stop_words]"
   ]
  },
  {
   "cell_type": "code",
   "execution_count": 45,
   "metadata": {},
   "outputs": [
    {
     "data": {
      "text/plain": [
       "(253, 181)"
      ]
     },
     "execution_count": 45,
     "metadata": {},
     "output_type": "execute_result"
    }
   ],
   "source": [
    "len(word_tokens), len(filtered_words)"
   ]
  },
  {
   "cell_type": "code",
   "execution_count": 46,
   "metadata": {},
   "outputs": [],
   "source": [
    "freq_dist = FreqDist(filtered_words)"
   ]
  },
  {
   "cell_type": "code",
   "execution_count": 47,
   "metadata": {},
   "outputs": [
    {
     "data": {
      "text/plain": [
       "[('dbpedia', 6),\n",
       " ('dataset', 6),\n",
       " ('ontology', 4),\n",
       " ('classification', 4),\n",
       " ('license', 3),\n",
       " ('training', 3),\n",
       " ('title', 3),\n",
       " ('double', 3),\n",
       " ('licensed', 2),\n",
       " ('terms', 2)]"
      ]
     },
     "execution_count": 47,
     "metadata": {},
     "output_type": "execute_result"
    }
   ],
   "source": [
    "freq_dist.most_common(10)"
   ]
  },
  {
   "cell_type": "code",
   "execution_count": 48,
   "metadata": {},
   "outputs": [
    {
     "data": {
      "image/png": "[encoded data removed]",
      "text/plain": [
       "<Figure size 864x576 with 1 Axes>"
      ]
     },
     "metadata": {
      "needs_background": "light"
     },
     "output_type": "display_data"
    }
   ],
   "source": [
    "fig, ax = plt.subplots(figsize=(12, 8))\n",
    "freq_dist.plot(20, cumulative=False)\n",
    "plt.show();"
   ]
  },
  {
   "cell_type": "code",
   "execution_count": null,
   "metadata": {},
   "outputs": [],
   "source": []
  }
 ],
 "metadata": {
  "interpreter": {
   "hash": "a5a8803176ba603454a120d2af569b11c3f41e6e81f2a81589e795246afd0d6d"
  },
  "kernelspec": {
   "display_name": "Python 3.7.6 64-bit ('base': conda)",
   "language": "python",
   "name": "python3"
  },
  "language_info": {
   "codemirror_mode": {
    "name": "ipython",
    "version": 3
   },
   "file_extension": ".py",
   "mimetype": "text/x-python",
   "name": "python",
   "nbconvert_exporter": "python",
   "pygments_lexer": "ipython3",
   "version": "3.7.6"
  },
  "orig_nbformat": 4
 },
 "nbformat": 4,
 "nbformat_minor": 2
}
